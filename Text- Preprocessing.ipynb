{
 "cells": [
  {
   "cell_type": "markdown",
   "id": "c266056e",
   "metadata": {},
   "source": [
    "### Importing Libraries"
   ]
  },
  {
   "cell_type": "code",
   "execution_count": 4,
   "id": "4c594750",
   "metadata": {},
   "outputs": [],
   "source": [
    "import pandas as pd\n",
    "import numpy as np\n",
    "import seaborn as sns\n",
    "import matplotlib.pyplot as plt\n",
    "from collections import Counter\n",
    "import matplotlib.image as mpimg\n",
    "from textblob import TextBlob\n",
    "from googletrans import Translator\n",
    "import string\n",
    "import shutil\n",
    "import imutils\n",
    "import re\n",
    "import os\n",
    "import cv2\n",
    "import spacy\n",
    "from spacy.lang.en.stop_words import STOP_WORDS\n",
    "import contractions\n",
    "import unicodedata"
   ]
  },
  {
   "cell_type": "markdown",
   "id": "8924a93a",
   "metadata": {},
   "source": [
    "### Importing Data"
   ]
  },
  {
   "cell_type": "markdown",
   "id": "0fed8d00",
   "metadata": {},
   "source": [
    "Link : https://www.kaggle.com/datasets/kazanova/sentiment140"
   ]
  },
  {
   "cell_type": "code",
   "execution_count": 5,
   "id": "61b157d2",
   "metadata": {},
   "outputs": [
    {
     "data": {
      "text/html": [
       "<div>\n",
       "<style scoped>\n",
       "    .dataframe tbody tr th:only-of-type {\n",
       "        vertical-align: middle;\n",
       "    }\n",
       "\n",
       "    .dataframe tbody tr th {\n",
       "        vertical-align: top;\n",
       "    }\n",
       "\n",
       "    .dataframe thead th {\n",
       "        text-align: right;\n",
       "    }\n",
       "</style>\n",
       "<table border=\"1\" class=\"dataframe\">\n",
       "  <thead>\n",
       "    <tr style=\"text-align: right;\">\n",
       "      <th></th>\n",
       "      <th>id</th>\n",
       "      <th>text</th>\n",
       "    </tr>\n",
       "  </thead>\n",
       "  <tbody>\n",
       "    <tr>\n",
       "      <th>0</th>\n",
       "      <td>1467810369</td>\n",
       "      <td>@switchfoot http://twitpic.com/2y1zl - Awww, t...</td>\n",
       "    </tr>\n",
       "    <tr>\n",
       "      <th>1</th>\n",
       "      <td>1467810672</td>\n",
       "      <td>is upset that he can't update his Facebook by ...</td>\n",
       "    </tr>\n",
       "    <tr>\n",
       "      <th>2</th>\n",
       "      <td>1467810917</td>\n",
       "      <td>@Kenichan I dived many times for the ball. Man...</td>\n",
       "    </tr>\n",
       "    <tr>\n",
       "      <th>3</th>\n",
       "      <td>1467811184</td>\n",
       "      <td>my whole body feels itchy and like its on fire</td>\n",
       "    </tr>\n",
       "    <tr>\n",
       "      <th>4</th>\n",
       "      <td>1467811193</td>\n",
       "      <td>@nationwideclass no, it's not behaving at all....</td>\n",
       "    </tr>\n",
       "  </tbody>\n",
       "</table>\n",
       "</div>"
      ],
      "text/plain": [
       "           id                                               text\n",
       "0  1467810369  @switchfoot http://twitpic.com/2y1zl - Awww, t...\n",
       "1  1467810672  is upset that he can't update his Facebook by ...\n",
       "2  1467810917  @Kenichan I dived many times for the ball. Man...\n",
       "3  1467811184    my whole body feels itchy and like its on fire \n",
       "4  1467811193  @nationwideclass no, it's not behaving at all...."
      ]
     },
     "execution_count": 5,
     "metadata": {},
     "output_type": "execute_result"
    }
   ],
   "source": [
    "df=pd.read_csv('data.csv',encoding='latin1',header=None)\n",
    "df=df[[1,5]].rename(columns={1:'id',5:'text'})\n",
    "df.head(5)"
   ]
  },
  {
   "cell_type": "markdown",
   "id": "7a7e54a4",
   "metadata": {},
   "source": [
    "### Transformation of text"
   ]
  },
  {
   "cell_type": "code",
   "execution_count": 6,
   "id": "457f2de1",
   "metadata": {},
   "outputs": [],
   "source": [
    "class DataProcessing:\n",
    "    def __init__(self):\n",
    "        pass\n",
    "        #self.text=text\n",
    "\n",
    "    def convertLower(self,text):\n",
    "        return text.lower()\n",
    "\n",
    "    def contractions_to_expansions(self,text):\n",
    "        Expanded_words=[]\n",
    "        for word in text.split():\n",
    "            Expanded_words.append(contractions.fix(word))\n",
    "            expanded_sentence=\" \".join(Expanded_words)\n",
    "        return expanded_sentence\n",
    "        Expanded_words.clear()\n",
    "\n",
    "    def remove_punctuations(self,text):\n",
    "        text_ =''.join([word.strip(string.punctuation) for word in text])\n",
    "        return text_\n",
    "\n",
    "    def remove_special_characters(self,text):\n",
    "        regex=r\"([@_!#$%^&*()<>?/\\|}{~:])\"\n",
    "        return re.sub(regex,\"\",text)\n",
    "    \n",
    "    def remove_numerics(self,text):\n",
    "        regex=r\"([-+]?[0-9]+)\"\n",
    "        return re.sub(regex,\"\",text)\n",
    "\n",
    "    def removeExtraSpaces(self,text):\n",
    "        return \" \".join(text.split())\n",
    "    \n",
    "    def remove_url(self,text):\n",
    "        regex = r\"(?i)\\b((?:https?://|www\\d{0,3}[.]|[a-z0-9.\\-]+[.][a-z]{2,4}/)(?:[^\\s()<>]+|\\(([^\\s()<>]+|(\\([^\\s()<>]+\\)))*\\))+(?:\\(([^\\s()<>]+|(\\([^\\s()<>]+\\)))*\\)|[^\\s`!()\\[\\]{};:'\\\".,<>?«»“”‘’]))\"\n",
    "        return re.sub(regex,\"\",text)\n",
    "                      \n",
    "    def remove_emails(self,text):\n",
    "        regex = r'\\b[A-Za-z0-9._%+-]+@[A-Za-z0-9.-]+\\.[A-Z|a-z]{2,}\\b'\n",
    "        return re.sub(regex,\"\",text)\n",
    "                      \n",
    "    def remove_mentions(self,text):\n",
    "        regex = r\"(?<=^|(?<=[^a-zA-Z0-9-_\\.]))@([A-Za-z]+[A-Za-z0-9-_]+)\"\n",
    "        return re.sub(regex,\"\",text)\n",
    "    \n",
    "    def remove_hashtags(self,text):\n",
    "        regex = r\"(?<=^|(?<=[^a-zA-Z0-9-_\\.]))#([A-Za-z]+[A-Za-z0-9-_]+)\"\n",
    "        return re.sub(regex,\"\",text)\n",
    "    \n",
    "    def translateToEnglish(self,text):\n",
    "        translator = Translator()\n",
    "        return translator.translate(s).text\n",
    "\n",
    "    def remove_accented_characters(self,text):\n",
    "        return unicodedata.normalize('NFKD',text).encode('ascii','ignore').decode('utf-8','ignore')\n",
    "\n",
    "    def remove_stopwords(self,text):\n",
    "        return \" \".join([word for word in text.split() if word not in STOP_WORDS])\n",
    "    \n",
    "    def spelling_correction(self,text):\n",
    "        return TextBlob(text).correct()\n",
    "\n"
   ]
  },
  {
   "cell_type": "code",
   "execution_count": 8,
   "id": "13bc6431",
   "metadata": {},
   "outputs": [],
   "source": [
    "df['text']=df['text'].apply(DataProcessing().convertLower)\n",
    "df['text']=df['text'].apply(DataProcessing().contractions_to_expansions)\n",
    "df['text']=df['text'].apply(DataProcessing().remove_punctuations)\n",
    "df['text']=df['text'].apply(DataProcessing().remove_special_characters)\n",
    "df['text']=df['text'].apply(DataProcessing().remove_numerics)\n",
    "df['text']=df['text'].apply(DataProcessing().removeExtraSpaces)\n",
    "df['text']=df['text'].apply(DataProcessing().remove_accented_characters)\n",
    "df['text']=df['text'].apply(DataProcessing().remove_stopwords)\n",
    "df['text']=df['text'].apply(DataProcessing().remove_hashtags)\n",
    "df['text']=df['text'].apply(DataProcessing().remove_mentions)"
   ]
  },
  {
   "cell_type": "code",
   "execution_count": 10,
   "id": "b4b98033",
   "metadata": {},
   "outputs": [
    {
     "data": {
      "text/html": [
       "<div>\n",
       "<style scoped>\n",
       "    .dataframe tbody tr th:only-of-type {\n",
       "        vertical-align: middle;\n",
       "    }\n",
       "\n",
       "    .dataframe tbody tr th {\n",
       "        vertical-align: top;\n",
       "    }\n",
       "\n",
       "    .dataframe thead th {\n",
       "        text-align: right;\n",
       "    }\n",
       "</style>\n",
       "<table border=\"1\" class=\"dataframe\">\n",
       "  <thead>\n",
       "    <tr style=\"text-align: right;\">\n",
       "      <th></th>\n",
       "      <th>id</th>\n",
       "      <th>text</th>\n",
       "    </tr>\n",
       "  </thead>\n",
       "  <tbody>\n",
       "    <tr>\n",
       "      <th>0</th>\n",
       "      <td>1467810369</td>\n",
       "      <td>switchfoot httptwitpiccomyzl awww bummer shoul...</td>\n",
       "    </tr>\n",
       "    <tr>\n",
       "      <th>1</th>\n",
       "      <td>1467810672</td>\n",
       "      <td>upset update facebook texting cry result schoo...</td>\n",
       "    </tr>\n",
       "    <tr>\n",
       "      <th>2</th>\n",
       "      <td>1467810917</td>\n",
       "      <td>kenichan dived times ball managed save rest bo...</td>\n",
       "    </tr>\n",
       "    <tr>\n",
       "      <th>3</th>\n",
       "      <td>1467811184</td>\n",
       "      <td>body feels itchy like fire</td>\n",
       "    </tr>\n",
       "    <tr>\n",
       "      <th>4</th>\n",
       "      <td>1467811193</td>\n",
       "      <td>nationwideclass behaving mad</td>\n",
       "    </tr>\n",
       "  </tbody>\n",
       "</table>\n",
       "</div>"
      ],
      "text/plain": [
       "           id                                               text\n",
       "0  1467810369  switchfoot httptwitpiccomyzl awww bummer shoul...\n",
       "1  1467810672  upset update facebook texting cry result schoo...\n",
       "2  1467810917  kenichan dived times ball managed save rest bo...\n",
       "3  1467811184                         body feels itchy like fire\n",
       "4  1467811193                       nationwideclass behaving mad"
      ]
     },
     "execution_count": 10,
     "metadata": {},
     "output_type": "execute_result"
    }
   ],
   "source": [
    "df.head(5)"
   ]
  },
  {
   "cell_type": "code",
   "execution_count": null,
   "id": "e608d0bb",
   "metadata": {},
   "outputs": [],
   "source": []
  }
 ],
 "metadata": {
  "kernelspec": {
   "display_name": "Python 3 (ipykernel)",
   "language": "python",
   "name": "python3"
  },
  "language_info": {
   "codemirror_mode": {
    "name": "ipython",
    "version": 3
   },
   "file_extension": ".py",
   "mimetype": "text/x-python",
   "name": "python",
   "nbconvert_exporter": "python",
   "pygments_lexer": "ipython3",
   "version": "3.10.9"
  }
 },
 "nbformat": 4,
 "nbformat_minor": 5
}
