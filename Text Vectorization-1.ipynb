{
 "cells": [
  {
   "cell_type": "markdown",
   "id": "4ef185cf",
   "metadata": {},
   "source": [
    "<h1 align='center'>Vectorization </h1>"
   ]
  },
  {
   "cell_type": "markdown",
   "id": "7a1f68aa",
   "metadata": {},
   "source": [
    "**Corpus**: Concatenation of the text of all the samples<br>\n",
    "**Vocabulary**: Collection of unique words from the corpus <br>\n",
    "**Document**: The individual text associated to each sample"
   ]
  },
  {
   "cell_type": "markdown",
   "id": "6564e7c5",
   "metadata": {},
   "source": [
    "***Word Vectorization***<br>\n",
    "It's a technique used in NLP where the words are represented in the form of real-valued vectors that encodes the meaning of the word such that the words that are similar in meaning are closer in the vector space."
   ]
  },
  {
   "cell_type": "code",
   "execution_count": 13,
   "id": "fbdb0ca5",
   "metadata": {},
   "outputs": [
    {
     "data": {
      "text/html": [
       "<div>\n",
       "<style scoped>\n",
       "    .dataframe tbody tr th:only-of-type {\n",
       "        vertical-align: middle;\n",
       "    }\n",
       "\n",
       "    .dataframe tbody tr th {\n",
       "        vertical-align: top;\n",
       "    }\n",
       "\n",
       "    .dataframe thead th {\n",
       "        text-align: right;\n",
       "    }\n",
       "</style>\n",
       "<table border=\"1\" class=\"dataframe\">\n",
       "  <thead>\n",
       "    <tr style=\"text-align: right;\">\n",
       "      <th></th>\n",
       "      <th>document</th>\n",
       "      <th>text</th>\n",
       "    </tr>\n",
       "  </thead>\n",
       "  <tbody>\n",
       "    <tr>\n",
       "      <th>0</th>\n",
       "      <td>d1</td>\n",
       "      <td>tough times create strong men</td>\n",
       "    </tr>\n",
       "    <tr>\n",
       "      <th>1</th>\n",
       "      <td>d2</td>\n",
       "      <td>strong men create easy times</td>\n",
       "    </tr>\n",
       "    <tr>\n",
       "      <th>2</th>\n",
       "      <td>d3</td>\n",
       "      <td>easy times create weak men</td>\n",
       "    </tr>\n",
       "    <tr>\n",
       "      <th>3</th>\n",
       "      <td>d4</td>\n",
       "      <td>weak men create tough times</td>\n",
       "    </tr>\n",
       "  </tbody>\n",
       "</table>\n",
       "</div>"
      ],
      "text/plain": [
       "  document                           text\n",
       "0       d1  tough times create strong men\n",
       "1       d2   strong men create easy times\n",
       "2       d3     easy times create weak men\n",
       "3       d4    weak men create tough times"
      ]
     },
     "execution_count": 13,
     "metadata": {},
     "output_type": "execute_result"
    }
   ],
   "source": [
    "import pandas as pd\n",
    "df=pd.read_csv(\"ExampleData.csv\")\n",
    "df"
   ]
  },
  {
   "cell_type": "code",
   "execution_count": 18,
   "id": "c17202cc",
   "metadata": {},
   "outputs": [
    {
     "name": "stdout",
     "output_type": "stream",
     "text": [
      "Corpus : \n",
      " ['tough', 'times', 'create', 'strong', 'men', 'strong', 'men', 'create', 'easy', 'times', 'easy', 'times', 'create', 'weak', 'men', 'weak', 'men', 'create', 'tough', 'times']\n",
      "Vocabulary : \n",
      " ['tough', 'times', 'strong', 'create', 'easy', 'men', 'weak']\n"
     ]
    }
   ],
   "source": [
    "corpus=[]\n",
    "for i in range(df.shape[0]):\n",
    "    corpus.extend(df.loc[i].text.split(' '))\n",
    "vocabulary=list(set(corpus))\n",
    "print(\"Corpus : \\n\",corpus)\n",
    "print(\"Vocabulary : \\n\",vocabulary)"
   ]
  },
  {
   "cell_type": "markdown",
   "id": "00079b0d",
   "metadata": {},
   "source": [
    "<h1 align ='center'> One-hot encoding </h1>"
   ]
  },
  {
   "cell_type": "markdown",
   "id": "fef38504",
   "metadata": {},
   "source": [
    "Here the words in the document if present in the vocabulary are represented by 1 else by 0.<br>\n",
    "Here each of the document is transformed into k dimensional representation where k represents total number of unique words in the vocabulary.\n"
   ]
  },
  {
   "cell_type": "code",
   "execution_count": 44,
   "id": "8f335544",
   "metadata": {},
   "outputs": [],
   "source": [
    "def OHE(df):\n",
    "    ohe_df=df.copy()\n",
    "    for i in range(df.shape[0]):\n",
    "        for j in vocabulary:\n",
    "            if j in df.loc[i].text:\n",
    "                ohe_df.loc[i,j]=1\n",
    "            else:\n",
    "                ohe_df.loc[i,j]=0\n",
    "                \n",
    "    return ohe_df\n",
    "ohe_df=OHE(df)"
   ]
  },
  {
   "cell_type": "code",
   "execution_count": 45,
   "id": "98a53efe",
   "metadata": {},
   "outputs": [
    {
     "data": {
      "text/html": [
       "<div>\n",
       "<style scoped>\n",
       "    .dataframe tbody tr th:only-of-type {\n",
       "        vertical-align: middle;\n",
       "    }\n",
       "\n",
       "    .dataframe tbody tr th {\n",
       "        vertical-align: top;\n",
       "    }\n",
       "\n",
       "    .dataframe thead th {\n",
       "        text-align: right;\n",
       "    }\n",
       "</style>\n",
       "<table border=\"1\" class=\"dataframe\">\n",
       "  <thead>\n",
       "    <tr style=\"text-align: right;\">\n",
       "      <th></th>\n",
       "      <th>document</th>\n",
       "      <th>text</th>\n",
       "      <th>tough</th>\n",
       "      <th>times</th>\n",
       "      <th>strong</th>\n",
       "      <th>create</th>\n",
       "      <th>easy</th>\n",
       "      <th>men</th>\n",
       "      <th>weak</th>\n",
       "    </tr>\n",
       "  </thead>\n",
       "  <tbody>\n",
       "    <tr>\n",
       "      <th>0</th>\n",
       "      <td>d1</td>\n",
       "      <td>tough times create strong men</td>\n",
       "      <td>1.0</td>\n",
       "      <td>1.0</td>\n",
       "      <td>1.0</td>\n",
       "      <td>1.0</td>\n",
       "      <td>0.0</td>\n",
       "      <td>1.0</td>\n",
       "      <td>0.0</td>\n",
       "    </tr>\n",
       "    <tr>\n",
       "      <th>1</th>\n",
       "      <td>d2</td>\n",
       "      <td>strong men create easy times</td>\n",
       "      <td>0.0</td>\n",
       "      <td>1.0</td>\n",
       "      <td>1.0</td>\n",
       "      <td>1.0</td>\n",
       "      <td>1.0</td>\n",
       "      <td>1.0</td>\n",
       "      <td>0.0</td>\n",
       "    </tr>\n",
       "    <tr>\n",
       "      <th>2</th>\n",
       "      <td>d3</td>\n",
       "      <td>easy times create weak men</td>\n",
       "      <td>0.0</td>\n",
       "      <td>1.0</td>\n",
       "      <td>0.0</td>\n",
       "      <td>1.0</td>\n",
       "      <td>1.0</td>\n",
       "      <td>1.0</td>\n",
       "      <td>1.0</td>\n",
       "    </tr>\n",
       "    <tr>\n",
       "      <th>3</th>\n",
       "      <td>d4</td>\n",
       "      <td>weak men create tough times</td>\n",
       "      <td>1.0</td>\n",
       "      <td>1.0</td>\n",
       "      <td>0.0</td>\n",
       "      <td>1.0</td>\n",
       "      <td>0.0</td>\n",
       "      <td>1.0</td>\n",
       "      <td>1.0</td>\n",
       "    </tr>\n",
       "  </tbody>\n",
       "</table>\n",
       "</div>"
      ],
      "text/plain": [
       "  document                           text  tough  times  strong  create  easy  \\\n",
       "0       d1  tough times create strong men    1.0    1.0     1.0     1.0   0.0   \n",
       "1       d2   strong men create easy times    0.0    1.0     1.0     1.0   1.0   \n",
       "2       d3     easy times create weak men    0.0    1.0     0.0     1.0   1.0   \n",
       "3       d4    weak men create tough times    1.0    1.0     0.0     1.0   0.0   \n",
       "\n",
       "   men  weak  \n",
       "0  1.0   0.0  \n",
       "1  1.0   0.0  \n",
       "2  1.0   1.0  \n",
       "3  1.0   1.0  "
      ]
     },
     "execution_count": 45,
     "metadata": {},
     "output_type": "execute_result"
    }
   ],
   "source": [
    "ohe_df"
   ]
  },
  {
   "cell_type": "markdown",
   "id": "362458f1",
   "metadata": {},
   "source": [
    "**Pros**<br>\n",
    "1. Simple & Intuitive \n",
    "2. Easy to implement\n",
    "**Cons**<br>\n",
    "1. Sparsity\n",
    "2. No fixed size.\n",
    "3 OOV issue. Can't handle new words.\n",
    "4. No caputure of semantics"
   ]
  },
  {
   "cell_type": "markdown",
   "id": "203e1413",
   "metadata": {},
   "source": [
    "<h1 align ='center'> Bag of Words </h1>"
   ]
  },
  {
   "cell_type": "markdown",
   "id": "d01d3df8",
   "metadata": {},
   "source": [
    "Here the frequency of the words are written as the vactor magnitude against a given word.<br>"
   ]
  },
  {
   "cell_type": "code",
   "execution_count": 49,
   "id": "98ecfa58",
   "metadata": {},
   "outputs": [
    {
     "data": {
      "text/html": [
       "<div>\n",
       "<style scoped>\n",
       "    .dataframe tbody tr th:only-of-type {\n",
       "        vertical-align: middle;\n",
       "    }\n",
       "\n",
       "    .dataframe tbody tr th {\n",
       "        vertical-align: top;\n",
       "    }\n",
       "\n",
       "    .dataframe thead th {\n",
       "        text-align: right;\n",
       "    }\n",
       "</style>\n",
       "<table border=\"1\" class=\"dataframe\">\n",
       "  <thead>\n",
       "    <tr style=\"text-align: right;\">\n",
       "      <th></th>\n",
       "      <th>document</th>\n",
       "      <th>text</th>\n",
       "    </tr>\n",
       "  </thead>\n",
       "  <tbody>\n",
       "    <tr>\n",
       "      <th>0</th>\n",
       "      <td>d1</td>\n",
       "      <td>tough times create strong men, strong men crea...</td>\n",
       "    </tr>\n",
       "    <tr>\n",
       "      <th>1</th>\n",
       "      <td>d2</td>\n",
       "      <td>easy times create weak men, weak men create to...</td>\n",
       "    </tr>\n",
       "  </tbody>\n",
       "</table>\n",
       "</div>"
      ],
      "text/plain": [
       "  document                                               text\n",
       "0       d1  tough times create strong men, strong men crea...\n",
       "1       d2  easy times create weak men, weak men create to..."
      ]
     },
     "execution_count": 49,
     "metadata": {},
     "output_type": "execute_result"
    }
   ],
   "source": [
    "df_=pd.read_csv('ExampleData_2.csv')\n",
    "df_"
   ]
  },
  {
   "cell_type": "code",
   "execution_count": 67,
   "id": "0d97c5bb",
   "metadata": {},
   "outputs": [
    {
     "data": {
      "text/plain": [
       "{'tough': 5,\n",
       " 'times': 4,\n",
       " 'create': 0,\n",
       " 'strong': 3,\n",
       " 'men': 2,\n",
       " 'easy': 1,\n",
       " 'weak': 6}"
      ]
     },
     "execution_count": 67,
     "metadata": {},
     "output_type": "execute_result"
    }
   ],
   "source": [
    "from sklearn.feature_extraction.text import CountVectorizer\n",
    "cv=CountVectorizer()\n",
    "bow=cv.fit_transform(df_['text'])\n",
    "cv.vocabulary_"
   ]
  },
  {
   "cell_type": "code",
   "execution_count": 68,
   "id": "b4b984cd",
   "metadata": {},
   "outputs": [
    {
     "name": "stdout",
     "output_type": "stream",
     "text": [
      "Text :  tough times create strong men, strong men create easy times\n",
      "Encoded text :  [[2 1 2 2 2 1 0]]\n",
      "Text :  easy times create weak men, weak men create tough times\n",
      "Encoded text :  [[2 1 2 0 2 1 2]]\n"
     ]
    }
   ],
   "source": [
    "print(\"Text : \", df_.loc[0].text)\n",
    "print(\"Encoded text : \", bow[0].toarray())\n",
    "\n",
    "print(\"Text : \", df_.loc[1].text)\n",
    "print(\"Encoded text : \", bow[1].toarray())"
   ]
  },
  {
   "cell_type": "code",
   "execution_count": 77,
   "id": "7a51effb",
   "metadata": {},
   "outputs": [],
   "source": [
    "def BOW(df):\n",
    "    cv=CountVectorizer()\n",
    "    bow=cv.fit_transform(df['text']).toarray()\n",
    "    bow_=pd.DataFrame(bow, columns=cv.get_feature_names_out())\n",
    "    bow_df=pd.concat([df, bow_],axis=1)\n",
    "    return bow_df\n",
    "bow_df=BOW(df_)"
   ]
  },
  {
   "cell_type": "code",
   "execution_count": 78,
   "id": "1baa5538",
   "metadata": {},
   "outputs": [
    {
     "data": {
      "text/html": [
       "<div>\n",
       "<style scoped>\n",
       "    .dataframe tbody tr th:only-of-type {\n",
       "        vertical-align: middle;\n",
       "    }\n",
       "\n",
       "    .dataframe tbody tr th {\n",
       "        vertical-align: top;\n",
       "    }\n",
       "\n",
       "    .dataframe thead th {\n",
       "        text-align: right;\n",
       "    }\n",
       "</style>\n",
       "<table border=\"1\" class=\"dataframe\">\n",
       "  <thead>\n",
       "    <tr style=\"text-align: right;\">\n",
       "      <th></th>\n",
       "      <th>document</th>\n",
       "      <th>text</th>\n",
       "      <th>create</th>\n",
       "      <th>easy</th>\n",
       "      <th>men</th>\n",
       "      <th>strong</th>\n",
       "      <th>times</th>\n",
       "      <th>tough</th>\n",
       "      <th>weak</th>\n",
       "    </tr>\n",
       "  </thead>\n",
       "  <tbody>\n",
       "    <tr>\n",
       "      <th>0</th>\n",
       "      <td>d1</td>\n",
       "      <td>tough times create strong men, strong men crea...</td>\n",
       "      <td>2</td>\n",
       "      <td>1</td>\n",
       "      <td>2</td>\n",
       "      <td>2</td>\n",
       "      <td>2</td>\n",
       "      <td>1</td>\n",
       "      <td>0</td>\n",
       "    </tr>\n",
       "    <tr>\n",
       "      <th>1</th>\n",
       "      <td>d2</td>\n",
       "      <td>easy times create weak men, weak men create to...</td>\n",
       "      <td>2</td>\n",
       "      <td>1</td>\n",
       "      <td>2</td>\n",
       "      <td>0</td>\n",
       "      <td>2</td>\n",
       "      <td>1</td>\n",
       "      <td>2</td>\n",
       "    </tr>\n",
       "  </tbody>\n",
       "</table>\n",
       "</div>"
      ],
      "text/plain": [
       "  document                                               text  create  easy  \\\n",
       "0       d1  tough times create strong men, strong men crea...       2     1   \n",
       "1       d2  easy times create weak men, weak men create to...       2     1   \n",
       "\n",
       "   men  strong  times  tough  weak  \n",
       "0    2       2      2      1     0  \n",
       "1    2       0      2      1     2  "
      ]
     },
     "execution_count": 78,
     "metadata": {},
     "output_type": "execute_result"
    }
   ],
   "source": [
    "bow_df"
   ]
  },
  {
   "cell_type": "markdown",
   "id": "2b982343",
   "metadata": {},
   "source": [
    "**Pros**<br>\n",
    "1. Simple\n",
    "2. Intuitive \n",
    "3. The problem due to OOV is handled inherently\n",
    "**Cons**<br>\n",
    "1. Sparsity\n",
    "2. Semantic meaning is not captured. Still better than OHE.\n",
    "3. OOV words are ignored. So, it might cause an issue as the importance of that word is not caputured"
   ]
  },
  {
   "cell_type": "markdown",
   "id": "16c12ce1",
   "metadata": {},
   "source": [
    "<h1 align='center'> Bag of Words with n-grams </h1>"
   ]
  },
  {
   "cell_type": "code",
   "execution_count": 90,
   "id": "ed0e97e3",
   "metadata": {},
   "outputs": [],
   "source": [
    "def ngramBOW(df,tup):\n",
    "    cv=CountVectorizer(ngram_range=tup)\n",
    "    bow=cv.fit_transform(df['text']).toarray()\n",
    "    bow_=pd.DataFrame(bow, columns=cv.get_feature_names_out())\n",
    "    bow_df=pd.concat([df, bow_],axis=1)\n",
    "    return bow_df"
   ]
  },
  {
   "cell_type": "markdown",
   "id": "95eaa4bb",
   "metadata": {},
   "source": [
    "### Unigram"
   ]
  },
  {
   "cell_type": "code",
   "execution_count": 94,
   "id": "c688463a",
   "metadata": {},
   "outputs": [
    {
     "name": "stdout",
     "output_type": "stream",
     "text": [
      "{'tough': 5, 'times': 4, 'create': 0, 'strong': 3, 'men': 2, 'easy': 1, 'weak': 6}\n"
     ]
    }
   ],
   "source": [
    "from sklearn.feature_extraction.text import CountVectorizer\n",
    "cv=CountVectorizer(ngram_range=(1, 1))\n",
    "bow=cv.fit_transform(df['text'])\n",
    "print(cv.vocabulary_)"
   ]
  },
  {
   "cell_type": "code",
   "execution_count": 95,
   "id": "900de408",
   "metadata": {},
   "outputs": [
    {
     "data": {
      "text/html": [
       "<div>\n",
       "<style scoped>\n",
       "    .dataframe tbody tr th:only-of-type {\n",
       "        vertical-align: middle;\n",
       "    }\n",
       "\n",
       "    .dataframe tbody tr th {\n",
       "        vertical-align: top;\n",
       "    }\n",
       "\n",
       "    .dataframe thead th {\n",
       "        text-align: right;\n",
       "    }\n",
       "</style>\n",
       "<table border=\"1\" class=\"dataframe\">\n",
       "  <thead>\n",
       "    <tr style=\"text-align: right;\">\n",
       "      <th></th>\n",
       "      <th>document</th>\n",
       "      <th>text</th>\n",
       "      <th>create</th>\n",
       "      <th>easy</th>\n",
       "      <th>men</th>\n",
       "      <th>strong</th>\n",
       "      <th>times</th>\n",
       "      <th>tough</th>\n",
       "      <th>weak</th>\n",
       "    </tr>\n",
       "  </thead>\n",
       "  <tbody>\n",
       "    <tr>\n",
       "      <th>0</th>\n",
       "      <td>d1</td>\n",
       "      <td>tough times create strong men</td>\n",
       "      <td>1</td>\n",
       "      <td>0</td>\n",
       "      <td>1</td>\n",
       "      <td>1</td>\n",
       "      <td>1</td>\n",
       "      <td>1</td>\n",
       "      <td>0</td>\n",
       "    </tr>\n",
       "    <tr>\n",
       "      <th>1</th>\n",
       "      <td>d2</td>\n",
       "      <td>strong men create easy times</td>\n",
       "      <td>1</td>\n",
       "      <td>1</td>\n",
       "      <td>1</td>\n",
       "      <td>1</td>\n",
       "      <td>1</td>\n",
       "      <td>0</td>\n",
       "      <td>0</td>\n",
       "    </tr>\n",
       "    <tr>\n",
       "      <th>2</th>\n",
       "      <td>d3</td>\n",
       "      <td>easy times create weak men</td>\n",
       "      <td>1</td>\n",
       "      <td>1</td>\n",
       "      <td>1</td>\n",
       "      <td>0</td>\n",
       "      <td>1</td>\n",
       "      <td>0</td>\n",
       "      <td>1</td>\n",
       "    </tr>\n",
       "    <tr>\n",
       "      <th>3</th>\n",
       "      <td>d4</td>\n",
       "      <td>weak men create tough times</td>\n",
       "      <td>1</td>\n",
       "      <td>0</td>\n",
       "      <td>1</td>\n",
       "      <td>0</td>\n",
       "      <td>1</td>\n",
       "      <td>1</td>\n",
       "      <td>1</td>\n",
       "    </tr>\n",
       "  </tbody>\n",
       "</table>\n",
       "</div>"
      ],
      "text/plain": [
       "  document                           text  create  easy  men  strong  times  \\\n",
       "0       d1  tough times create strong men       1     0    1       1      1   \n",
       "1       d2   strong men create easy times       1     1    1       1      1   \n",
       "2       d3     easy times create weak men       1     1    1       0      1   \n",
       "3       d4    weak men create tough times       1     0    1       0      1   \n",
       "\n",
       "   tough  weak  \n",
       "0      1     0  \n",
       "1      0     0  \n",
       "2      0     1  \n",
       "3      1     1  "
      ]
     },
     "execution_count": 95,
     "metadata": {},
     "output_type": "execute_result"
    }
   ],
   "source": [
    "bow_df_unigram=BOW(df,tup=(1,1))\n",
    "bow_df_unigram"
   ]
  },
  {
   "cell_type": "markdown",
   "id": "49653eb3",
   "metadata": {},
   "source": [
    "### Bi-gram"
   ]
  },
  {
   "cell_type": "code",
   "execution_count": 96,
   "id": "4e2593ed",
   "metadata": {},
   "outputs": [
    {
     "name": "stdout",
     "output_type": "stream",
     "text": [
      "{'tough times': 8, 'times create': 7, 'create strong': 1, 'strong men': 6, 'men create': 5, 'create easy': 0, 'easy times': 4, 'create weak': 3, 'weak men': 9, 'create tough': 2}\n"
     ]
    }
   ],
   "source": [
    "from sklearn.feature_extraction.text import CountVectorizer\n",
    "cv=CountVectorizer(ngram_range=(2, 2))\n",
    "bow=cv.fit_transform(df['text'])\n",
    "print(cv.vocabulary_)"
   ]
  },
  {
   "cell_type": "code",
   "execution_count": 97,
   "id": "fdc341f6",
   "metadata": {},
   "outputs": [
    {
     "data": {
      "text/html": [
       "<div>\n",
       "<style scoped>\n",
       "    .dataframe tbody tr th:only-of-type {\n",
       "        vertical-align: middle;\n",
       "    }\n",
       "\n",
       "    .dataframe tbody tr th {\n",
       "        vertical-align: top;\n",
       "    }\n",
       "\n",
       "    .dataframe thead th {\n",
       "        text-align: right;\n",
       "    }\n",
       "</style>\n",
       "<table border=\"1\" class=\"dataframe\">\n",
       "  <thead>\n",
       "    <tr style=\"text-align: right;\">\n",
       "      <th></th>\n",
       "      <th>document</th>\n",
       "      <th>text</th>\n",
       "      <th>create easy</th>\n",
       "      <th>create strong</th>\n",
       "      <th>create tough</th>\n",
       "      <th>create weak</th>\n",
       "      <th>easy times</th>\n",
       "      <th>men create</th>\n",
       "      <th>strong men</th>\n",
       "      <th>times create</th>\n",
       "      <th>tough times</th>\n",
       "      <th>weak men</th>\n",
       "    </tr>\n",
       "  </thead>\n",
       "  <tbody>\n",
       "    <tr>\n",
       "      <th>0</th>\n",
       "      <td>d1</td>\n",
       "      <td>tough times create strong men</td>\n",
       "      <td>0</td>\n",
       "      <td>1</td>\n",
       "      <td>0</td>\n",
       "      <td>0</td>\n",
       "      <td>0</td>\n",
       "      <td>0</td>\n",
       "      <td>1</td>\n",
       "      <td>1</td>\n",
       "      <td>1</td>\n",
       "      <td>0</td>\n",
       "    </tr>\n",
       "    <tr>\n",
       "      <th>1</th>\n",
       "      <td>d2</td>\n",
       "      <td>strong men create easy times</td>\n",
       "      <td>1</td>\n",
       "      <td>0</td>\n",
       "      <td>0</td>\n",
       "      <td>0</td>\n",
       "      <td>1</td>\n",
       "      <td>1</td>\n",
       "      <td>1</td>\n",
       "      <td>0</td>\n",
       "      <td>0</td>\n",
       "      <td>0</td>\n",
       "    </tr>\n",
       "    <tr>\n",
       "      <th>2</th>\n",
       "      <td>d3</td>\n",
       "      <td>easy times create weak men</td>\n",
       "      <td>0</td>\n",
       "      <td>0</td>\n",
       "      <td>0</td>\n",
       "      <td>1</td>\n",
       "      <td>1</td>\n",
       "      <td>0</td>\n",
       "      <td>0</td>\n",
       "      <td>1</td>\n",
       "      <td>0</td>\n",
       "      <td>1</td>\n",
       "    </tr>\n",
       "    <tr>\n",
       "      <th>3</th>\n",
       "      <td>d4</td>\n",
       "      <td>weak men create tough times</td>\n",
       "      <td>0</td>\n",
       "      <td>0</td>\n",
       "      <td>1</td>\n",
       "      <td>0</td>\n",
       "      <td>0</td>\n",
       "      <td>1</td>\n",
       "      <td>0</td>\n",
       "      <td>0</td>\n",
       "      <td>1</td>\n",
       "      <td>1</td>\n",
       "    </tr>\n",
       "  </tbody>\n",
       "</table>\n",
       "</div>"
      ],
      "text/plain": [
       "  document                           text  create easy  create strong  \\\n",
       "0       d1  tough times create strong men            0              1   \n",
       "1       d2   strong men create easy times            1              0   \n",
       "2       d3     easy times create weak men            0              0   \n",
       "3       d4    weak men create tough times            0              0   \n",
       "\n",
       "   create tough  create weak  easy times  men create  strong men  \\\n",
       "0             0            0           0           0           1   \n",
       "1             0            0           1           1           1   \n",
       "2             0            1           1           0           0   \n",
       "3             1            0           0           1           0   \n",
       "\n",
       "   times create  tough times  weak men  \n",
       "0             1            1         0  \n",
       "1             0            0         0  \n",
       "2             1            0         1  \n",
       "3             0            1         1  "
      ]
     },
     "execution_count": 97,
     "metadata": {},
     "output_type": "execute_result"
    }
   ],
   "source": [
    "bow_df_bigram=BOW(df,tup=(2,2))\n",
    "bow_df_bigram"
   ]
  },
  {
   "cell_type": "markdown",
   "id": "3e655df7",
   "metadata": {},
   "source": [
    "### Tri-gram"
   ]
  },
  {
   "cell_type": "code",
   "execution_count": 83,
   "id": "e2eb8668",
   "metadata": {},
   "outputs": [
    {
     "name": "stdout",
     "output_type": "stream",
     "text": [
      "{'tough times create': 10, 'times create strong': 8, 'create strong men': 1, 'strong men create': 7, 'men create easy': 5, 'create easy times': 0, 'easy times create': 4, 'times create weak': 9, 'create weak men': 3, 'weak men create': 11, 'men create tough': 6, 'create tough times': 2}\n"
     ]
    }
   ],
   "source": [
    "from sklearn.feature_extraction.text import CountVectorizer\n",
    "cv=CountVectorizer(ngram_range=(3, 3))\n",
    "bow=cv.fit_transform(df['text'])\n",
    "print(cv.vocabulary_)"
   ]
  },
  {
   "cell_type": "code",
   "execution_count": 98,
   "id": "3386c267",
   "metadata": {},
   "outputs": [
    {
     "data": {
      "text/html": [
       "<div>\n",
       "<style scoped>\n",
       "    .dataframe tbody tr th:only-of-type {\n",
       "        vertical-align: middle;\n",
       "    }\n",
       "\n",
       "    .dataframe tbody tr th {\n",
       "        vertical-align: top;\n",
       "    }\n",
       "\n",
       "    .dataframe thead th {\n",
       "        text-align: right;\n",
       "    }\n",
       "</style>\n",
       "<table border=\"1\" class=\"dataframe\">\n",
       "  <thead>\n",
       "    <tr style=\"text-align: right;\">\n",
       "      <th></th>\n",
       "      <th>document</th>\n",
       "      <th>text</th>\n",
       "      <th>create easy times</th>\n",
       "      <th>create strong men</th>\n",
       "      <th>create tough times</th>\n",
       "      <th>create weak men</th>\n",
       "      <th>easy times create</th>\n",
       "      <th>men create easy</th>\n",
       "      <th>men create tough</th>\n",
       "      <th>strong men create</th>\n",
       "      <th>times create strong</th>\n",
       "      <th>times create weak</th>\n",
       "      <th>tough times create</th>\n",
       "      <th>weak men create</th>\n",
       "    </tr>\n",
       "  </thead>\n",
       "  <tbody>\n",
       "    <tr>\n",
       "      <th>0</th>\n",
       "      <td>d1</td>\n",
       "      <td>tough times create strong men</td>\n",
       "      <td>0</td>\n",
       "      <td>1</td>\n",
       "      <td>0</td>\n",
       "      <td>0</td>\n",
       "      <td>0</td>\n",
       "      <td>0</td>\n",
       "      <td>0</td>\n",
       "      <td>0</td>\n",
       "      <td>1</td>\n",
       "      <td>0</td>\n",
       "      <td>1</td>\n",
       "      <td>0</td>\n",
       "    </tr>\n",
       "    <tr>\n",
       "      <th>1</th>\n",
       "      <td>d2</td>\n",
       "      <td>strong men create easy times</td>\n",
       "      <td>1</td>\n",
       "      <td>0</td>\n",
       "      <td>0</td>\n",
       "      <td>0</td>\n",
       "      <td>0</td>\n",
       "      <td>1</td>\n",
       "      <td>0</td>\n",
       "      <td>1</td>\n",
       "      <td>0</td>\n",
       "      <td>0</td>\n",
       "      <td>0</td>\n",
       "      <td>0</td>\n",
       "    </tr>\n",
       "    <tr>\n",
       "      <th>2</th>\n",
       "      <td>d3</td>\n",
       "      <td>easy times create weak men</td>\n",
       "      <td>0</td>\n",
       "      <td>0</td>\n",
       "      <td>0</td>\n",
       "      <td>1</td>\n",
       "      <td>1</td>\n",
       "      <td>0</td>\n",
       "      <td>0</td>\n",
       "      <td>0</td>\n",
       "      <td>0</td>\n",
       "      <td>1</td>\n",
       "      <td>0</td>\n",
       "      <td>0</td>\n",
       "    </tr>\n",
       "    <tr>\n",
       "      <th>3</th>\n",
       "      <td>d4</td>\n",
       "      <td>weak men create tough times</td>\n",
       "      <td>0</td>\n",
       "      <td>0</td>\n",
       "      <td>1</td>\n",
       "      <td>0</td>\n",
       "      <td>0</td>\n",
       "      <td>0</td>\n",
       "      <td>1</td>\n",
       "      <td>0</td>\n",
       "      <td>0</td>\n",
       "      <td>0</td>\n",
       "      <td>0</td>\n",
       "      <td>1</td>\n",
       "    </tr>\n",
       "  </tbody>\n",
       "</table>\n",
       "</div>"
      ],
      "text/plain": [
       "  document                           text  create easy times  \\\n",
       "0       d1  tough times create strong men                  0   \n",
       "1       d2   strong men create easy times                  1   \n",
       "2       d3     easy times create weak men                  0   \n",
       "3       d4    weak men create tough times                  0   \n",
       "\n",
       "   create strong men  create tough times  create weak men  easy times create  \\\n",
       "0                  1                   0                0                  0   \n",
       "1                  0                   0                0                  0   \n",
       "2                  0                   0                1                  1   \n",
       "3                  0                   1                0                  0   \n",
       "\n",
       "   men create easy  men create tough  strong men create  times create strong  \\\n",
       "0                0                 0                  0                    1   \n",
       "1                1                 0                  1                    0   \n",
       "2                0                 0                  0                    0   \n",
       "3                0                 1                  0                    0   \n",
       "\n",
       "   times create weak  tough times create  weak men create  \n",
       "0                  0                   1                0  \n",
       "1                  0                   0                0  \n",
       "2                  1                   0                0  \n",
       "3                  0                   0                1  "
      ]
     },
     "execution_count": 98,
     "metadata": {},
     "output_type": "execute_result"
    }
   ],
   "source": [
    "bow_df_trigram=BOW(df,tup=(3,3))\n",
    "bow_df_trigram"
   ]
  },
  {
   "cell_type": "markdown",
   "id": "1fd5deab",
   "metadata": {},
   "source": [
    "### Unigram+Bigram"
   ]
  },
  {
   "cell_type": "code",
   "execution_count": 84,
   "id": "87c10d8a",
   "metadata": {},
   "outputs": [
    {
     "name": "stdout",
     "output_type": "stream",
     "text": [
      "{'tough': 13, 'times': 11, 'create': 0, 'strong': 9, 'men': 7, 'tough times': 14, 'times create': 12, 'create strong': 2, 'strong men': 10, 'easy': 5, 'men create': 8, 'create easy': 1, 'easy times': 6, 'weak': 15, 'create weak': 4, 'weak men': 16, 'create tough': 3}\n"
     ]
    }
   ],
   "source": [
    "from sklearn.feature_extraction.text import CountVectorizer\n",
    "cv=CountVectorizer(ngram_range=(1, 2))\n",
    "bow=cv.fit_transform(df['text'])\n",
    "print(cv.vocabulary_)"
   ]
  },
  {
   "cell_type": "code",
   "execution_count": 99,
   "id": "66e91bb6",
   "metadata": {},
   "outputs": [
    {
     "data": {
      "text/html": [
       "<div>\n",
       "<style scoped>\n",
       "    .dataframe tbody tr th:only-of-type {\n",
       "        vertical-align: middle;\n",
       "    }\n",
       "\n",
       "    .dataframe tbody tr th {\n",
       "        vertical-align: top;\n",
       "    }\n",
       "\n",
       "    .dataframe thead th {\n",
       "        text-align: right;\n",
       "    }\n",
       "</style>\n",
       "<table border=\"1\" class=\"dataframe\">\n",
       "  <thead>\n",
       "    <tr style=\"text-align: right;\">\n",
       "      <th></th>\n",
       "      <th>document</th>\n",
       "      <th>text</th>\n",
       "      <th>create</th>\n",
       "      <th>create easy</th>\n",
       "      <th>create strong</th>\n",
       "      <th>create tough</th>\n",
       "      <th>create weak</th>\n",
       "      <th>easy</th>\n",
       "      <th>easy times</th>\n",
       "      <th>men</th>\n",
       "      <th>men create</th>\n",
       "      <th>strong</th>\n",
       "      <th>strong men</th>\n",
       "      <th>times</th>\n",
       "      <th>times create</th>\n",
       "      <th>tough</th>\n",
       "      <th>tough times</th>\n",
       "      <th>weak</th>\n",
       "      <th>weak men</th>\n",
       "    </tr>\n",
       "  </thead>\n",
       "  <tbody>\n",
       "    <tr>\n",
       "      <th>0</th>\n",
       "      <td>d1</td>\n",
       "      <td>tough times create strong men</td>\n",
       "      <td>1</td>\n",
       "      <td>0</td>\n",
       "      <td>1</td>\n",
       "      <td>0</td>\n",
       "      <td>0</td>\n",
       "      <td>0</td>\n",
       "      <td>0</td>\n",
       "      <td>1</td>\n",
       "      <td>0</td>\n",
       "      <td>1</td>\n",
       "      <td>1</td>\n",
       "      <td>1</td>\n",
       "      <td>1</td>\n",
       "      <td>1</td>\n",
       "      <td>1</td>\n",
       "      <td>0</td>\n",
       "      <td>0</td>\n",
       "    </tr>\n",
       "    <tr>\n",
       "      <th>1</th>\n",
       "      <td>d2</td>\n",
       "      <td>strong men create easy times</td>\n",
       "      <td>1</td>\n",
       "      <td>1</td>\n",
       "      <td>0</td>\n",
       "      <td>0</td>\n",
       "      <td>0</td>\n",
       "      <td>1</td>\n",
       "      <td>1</td>\n",
       "      <td>1</td>\n",
       "      <td>1</td>\n",
       "      <td>1</td>\n",
       "      <td>1</td>\n",
       "      <td>1</td>\n",
       "      <td>0</td>\n",
       "      <td>0</td>\n",
       "      <td>0</td>\n",
       "      <td>0</td>\n",
       "      <td>0</td>\n",
       "    </tr>\n",
       "    <tr>\n",
       "      <th>2</th>\n",
       "      <td>d3</td>\n",
       "      <td>easy times create weak men</td>\n",
       "      <td>1</td>\n",
       "      <td>0</td>\n",
       "      <td>0</td>\n",
       "      <td>0</td>\n",
       "      <td>1</td>\n",
       "      <td>1</td>\n",
       "      <td>1</td>\n",
       "      <td>1</td>\n",
       "      <td>0</td>\n",
       "      <td>0</td>\n",
       "      <td>0</td>\n",
       "      <td>1</td>\n",
       "      <td>1</td>\n",
       "      <td>0</td>\n",
       "      <td>0</td>\n",
       "      <td>1</td>\n",
       "      <td>1</td>\n",
       "    </tr>\n",
       "    <tr>\n",
       "      <th>3</th>\n",
       "      <td>d4</td>\n",
       "      <td>weak men create tough times</td>\n",
       "      <td>1</td>\n",
       "      <td>0</td>\n",
       "      <td>0</td>\n",
       "      <td>1</td>\n",
       "      <td>0</td>\n",
       "      <td>0</td>\n",
       "      <td>0</td>\n",
       "      <td>1</td>\n",
       "      <td>1</td>\n",
       "      <td>0</td>\n",
       "      <td>0</td>\n",
       "      <td>1</td>\n",
       "      <td>0</td>\n",
       "      <td>1</td>\n",
       "      <td>1</td>\n",
       "      <td>1</td>\n",
       "      <td>1</td>\n",
       "    </tr>\n",
       "  </tbody>\n",
       "</table>\n",
       "</div>"
      ],
      "text/plain": [
       "  document                           text  create  create easy  create strong  \\\n",
       "0       d1  tough times create strong men       1            0              1   \n",
       "1       d2   strong men create easy times       1            1              0   \n",
       "2       d3     easy times create weak men       1            0              0   \n",
       "3       d4    weak men create tough times       1            0              0   \n",
       "\n",
       "   create tough  create weak  easy  easy times  men  men create  strong  \\\n",
       "0             0            0     0           0    1           0       1   \n",
       "1             0            0     1           1    1           1       1   \n",
       "2             0            1     1           1    1           0       0   \n",
       "3             1            0     0           0    1           1       0   \n",
       "\n",
       "   strong men  times  times create  tough  tough times  weak  weak men  \n",
       "0           1      1             1      1            1     0         0  \n",
       "1           1      1             0      0            0     0         0  \n",
       "2           0      1             1      0            0     1         1  \n",
       "3           0      1             0      1            1     1         1  "
      ]
     },
     "execution_count": 99,
     "metadata": {},
     "output_type": "execute_result"
    }
   ],
   "source": [
    "bow_df_unigram_bigram=BOW(df,tup=(1,2))\n",
    "bow_df_unigram_bigram"
   ]
  },
  {
   "cell_type": "markdown",
   "id": "29bf79cf",
   "metadata": {},
   "source": [
    "### Unigram+Bigram+Trigram"
   ]
  },
  {
   "cell_type": "code",
   "execution_count": 85,
   "id": "1426f369",
   "metadata": {},
   "outputs": [
    {
     "name": "stdout",
     "output_type": "stream",
     "text": [
      "{'tough': 23, 'times': 19, 'create': 0, 'strong': 16, 'men': 12, 'tough times': 24, 'times create': 20, 'create strong': 3, 'strong men': 17, 'tough times create': 25, 'times create strong': 21, 'create strong men': 4, 'easy': 9, 'men create': 13, 'create easy': 1, 'easy times': 10, 'strong men create': 18, 'men create easy': 14, 'create easy times': 2, 'weak': 26, 'create weak': 7, 'weak men': 27, 'easy times create': 11, 'times create weak': 22, 'create weak men': 8, 'create tough': 5, 'weak men create': 28, 'men create tough': 15, 'create tough times': 6}\n"
     ]
    }
   ],
   "source": [
    "from sklearn.feature_extraction.text import CountVectorizer\n",
    "cv=CountVectorizer(ngram_range=(1, 3))\n",
    "bow=cv.fit_transform(df['text'])\n",
    "print(cv.vocabulary_)"
   ]
  },
  {
   "cell_type": "code",
   "execution_count": 100,
   "id": "3f21a97c",
   "metadata": {},
   "outputs": [
    {
     "data": {
      "text/html": [
       "<div>\n",
       "<style scoped>\n",
       "    .dataframe tbody tr th:only-of-type {\n",
       "        vertical-align: middle;\n",
       "    }\n",
       "\n",
       "    .dataframe tbody tr th {\n",
       "        vertical-align: top;\n",
       "    }\n",
       "\n",
       "    .dataframe thead th {\n",
       "        text-align: right;\n",
       "    }\n",
       "</style>\n",
       "<table border=\"1\" class=\"dataframe\">\n",
       "  <thead>\n",
       "    <tr style=\"text-align: right;\">\n",
       "      <th></th>\n",
       "      <th>document</th>\n",
       "      <th>text</th>\n",
       "      <th>create</th>\n",
       "      <th>create easy</th>\n",
       "      <th>create easy times</th>\n",
       "      <th>create strong</th>\n",
       "      <th>create strong men</th>\n",
       "      <th>create tough</th>\n",
       "      <th>create tough times</th>\n",
       "      <th>create weak</th>\n",
       "      <th>...</th>\n",
       "      <th>times</th>\n",
       "      <th>times create</th>\n",
       "      <th>times create strong</th>\n",
       "      <th>times create weak</th>\n",
       "      <th>tough</th>\n",
       "      <th>tough times</th>\n",
       "      <th>tough times create</th>\n",
       "      <th>weak</th>\n",
       "      <th>weak men</th>\n",
       "      <th>weak men create</th>\n",
       "    </tr>\n",
       "  </thead>\n",
       "  <tbody>\n",
       "    <tr>\n",
       "      <th>0</th>\n",
       "      <td>d1</td>\n",
       "      <td>tough times create strong men</td>\n",
       "      <td>1</td>\n",
       "      <td>0</td>\n",
       "      <td>0</td>\n",
       "      <td>1</td>\n",
       "      <td>1</td>\n",
       "      <td>0</td>\n",
       "      <td>0</td>\n",
       "      <td>0</td>\n",
       "      <td>...</td>\n",
       "      <td>1</td>\n",
       "      <td>1</td>\n",
       "      <td>1</td>\n",
       "      <td>0</td>\n",
       "      <td>1</td>\n",
       "      <td>1</td>\n",
       "      <td>1</td>\n",
       "      <td>0</td>\n",
       "      <td>0</td>\n",
       "      <td>0</td>\n",
       "    </tr>\n",
       "    <tr>\n",
       "      <th>1</th>\n",
       "      <td>d2</td>\n",
       "      <td>strong men create easy times</td>\n",
       "      <td>1</td>\n",
       "      <td>1</td>\n",
       "      <td>1</td>\n",
       "      <td>0</td>\n",
       "      <td>0</td>\n",
       "      <td>0</td>\n",
       "      <td>0</td>\n",
       "      <td>0</td>\n",
       "      <td>...</td>\n",
       "      <td>1</td>\n",
       "      <td>0</td>\n",
       "      <td>0</td>\n",
       "      <td>0</td>\n",
       "      <td>0</td>\n",
       "      <td>0</td>\n",
       "      <td>0</td>\n",
       "      <td>0</td>\n",
       "      <td>0</td>\n",
       "      <td>0</td>\n",
       "    </tr>\n",
       "    <tr>\n",
       "      <th>2</th>\n",
       "      <td>d3</td>\n",
       "      <td>easy times create weak men</td>\n",
       "      <td>1</td>\n",
       "      <td>0</td>\n",
       "      <td>0</td>\n",
       "      <td>0</td>\n",
       "      <td>0</td>\n",
       "      <td>0</td>\n",
       "      <td>0</td>\n",
       "      <td>1</td>\n",
       "      <td>...</td>\n",
       "      <td>1</td>\n",
       "      <td>1</td>\n",
       "      <td>0</td>\n",
       "      <td>1</td>\n",
       "      <td>0</td>\n",
       "      <td>0</td>\n",
       "      <td>0</td>\n",
       "      <td>1</td>\n",
       "      <td>1</td>\n",
       "      <td>0</td>\n",
       "    </tr>\n",
       "    <tr>\n",
       "      <th>3</th>\n",
       "      <td>d4</td>\n",
       "      <td>weak men create tough times</td>\n",
       "      <td>1</td>\n",
       "      <td>0</td>\n",
       "      <td>0</td>\n",
       "      <td>0</td>\n",
       "      <td>0</td>\n",
       "      <td>1</td>\n",
       "      <td>1</td>\n",
       "      <td>0</td>\n",
       "      <td>...</td>\n",
       "      <td>1</td>\n",
       "      <td>0</td>\n",
       "      <td>0</td>\n",
       "      <td>0</td>\n",
       "      <td>1</td>\n",
       "      <td>1</td>\n",
       "      <td>0</td>\n",
       "      <td>1</td>\n",
       "      <td>1</td>\n",
       "      <td>1</td>\n",
       "    </tr>\n",
       "  </tbody>\n",
       "</table>\n",
       "<p>4 rows × 31 columns</p>\n",
       "</div>"
      ],
      "text/plain": [
       "  document                           text  create  create easy  \\\n",
       "0       d1  tough times create strong men       1            0   \n",
       "1       d2   strong men create easy times       1            1   \n",
       "2       d3     easy times create weak men       1            0   \n",
       "3       d4    weak men create tough times       1            0   \n",
       "\n",
       "   create easy times  create strong  create strong men  create tough  \\\n",
       "0                  0              1                  1             0   \n",
       "1                  1              0                  0             0   \n",
       "2                  0              0                  0             0   \n",
       "3                  0              0                  0             1   \n",
       "\n",
       "   create tough times  create weak  ...  times  times create  \\\n",
       "0                   0            0  ...      1             1   \n",
       "1                   0            0  ...      1             0   \n",
       "2                   0            1  ...      1             1   \n",
       "3                   1            0  ...      1             0   \n",
       "\n",
       "   times create strong  times create weak  tough  tough times  \\\n",
       "0                    1                  0      1            1   \n",
       "1                    0                  0      0            0   \n",
       "2                    0                  1      0            0   \n",
       "3                    0                  0      1            1   \n",
       "\n",
       "   tough times create  weak  weak men  weak men create  \n",
       "0                   1     0         0                0  \n",
       "1                   0     0         0                0  \n",
       "2                   0     1         1                0  \n",
       "3                   0     1         1                1  \n",
       "\n",
       "[4 rows x 31 columns]"
      ]
     },
     "execution_count": 100,
     "metadata": {},
     "output_type": "execute_result"
    }
   ],
   "source": [
    "bow_df_n_gram=BOW(df,tup=(1,3))\n",
    "bow_df_n_gram"
   ]
  },
  {
   "cell_type": "markdown",
   "id": "23a69d12",
   "metadata": {},
   "source": [
    "**Pros**<br>\n",
    "1. Simple\n",
    "2. Intuitive \n",
    "3. Semantic is captured to some small extent.\n",
    "**Cons**<br>\n",
    "1. Sparsity\n",
    "2. Dimension incrases as the value of n increases.\n",
    "3. OOV words are ignored. So, it might cause an issue as the importance of that word is not caputured."
   ]
  },
  {
   "cell_type": "markdown",
   "id": "fd5c72eb",
   "metadata": {},
   "source": [
    "<h1 align='center'> TF-IDF </h1>"
   ]
  },
  {
   "cell_type": "markdown",
   "id": "c323fdc5",
   "metadata": {},
   "source": [
    "Intuition : If any word has high frequency value in a given document but it's very less occuring in rest of the corpus then that word becomes very important to capture the essence of that very document so more weight is given to that word for that document."
   ]
  },
  {
   "cell_type": "markdown",
   "id": "74e63126",
   "metadata": {},
   "source": [
    "***Term Frequency (tf):*** <br>TF gives us the frequency of the word in each document in the corpus. It is the ratio of number of times the word appears in a document compared to the total number of words in that document. It increases as the number of occurrences of that word within the document increases.<br>\n",
    "$TF(t)$ = $\\frac{Number of occurances of term t in document d}{Total number of terms in document d}$ <br>"
   ]
  },
  {
   "cell_type": "markdown",
   "id": "095b1233",
   "metadata": {},
   "source": [
    "***Inverse Data Frequency (idf):*** IDF used to calculate the weight of rare words across all documents in the corpus. The words that occur rarely in the corpus have a high IDF score.<br>\n",
    "$IDF= log\\frac{Total number of documents in the corpus}{Number of documents with term t in them}$"
   ]
  },
  {
   "cell_type": "code",
   "execution_count": 111,
   "id": "6ed04993",
   "metadata": {},
   "outputs": [
    {
     "data": {
      "text/plain": [
       "{'tough': 5,\n",
       " 'times': 4,\n",
       " 'create': 0,\n",
       " 'strong': 3,\n",
       " 'men': 2,\n",
       " 'easy': 1,\n",
       " 'weak': 6}"
      ]
     },
     "execution_count": 111,
     "metadata": {},
     "output_type": "execute_result"
    }
   ],
   "source": [
    "from sklearn.feature_extraction.text import TfidfVectorizer\n",
    "tfidf=TfidfVectorizer()\n",
    "tfidf_data=tfidf.fit_transform(df['text']).toarray()\n",
    "tfidf.vocabulary_"
   ]
  },
  {
   "cell_type": "code",
   "execution_count": 112,
   "id": "913ad873",
   "metadata": {},
   "outputs": [],
   "source": [
    "def TFIDF(df):\n",
    "    tfidf=TfidfVectorizer()\n",
    "    tfidf_data=tfidf.fit_transform(df['text']).toarray()\n",
    "    tfidf_df=pd.DataFrame(tfidf_data, columns=tfidf.get_feature_names_out())\n",
    "    tfidf_df=pd.concat([df, tfidf_df],axis=1)\n",
    "    return tfidf_df\n",
    "tfidf_df = TFIDF(df)"
   ]
  },
  {
   "cell_type": "code",
   "execution_count": 113,
   "id": "84506683",
   "metadata": {},
   "outputs": [
    {
     "data": {
      "text/html": [
       "<div>\n",
       "<style scoped>\n",
       "    .dataframe tbody tr th:only-of-type {\n",
       "        vertical-align: middle;\n",
       "    }\n",
       "\n",
       "    .dataframe tbody tr th {\n",
       "        vertical-align: top;\n",
       "    }\n",
       "\n",
       "    .dataframe thead th {\n",
       "        text-align: right;\n",
       "    }\n",
       "</style>\n",
       "<table border=\"1\" class=\"dataframe\">\n",
       "  <thead>\n",
       "    <tr style=\"text-align: right;\">\n",
       "      <th></th>\n",
       "      <th>document</th>\n",
       "      <th>text</th>\n",
       "      <th>create</th>\n",
       "      <th>easy</th>\n",
       "      <th>men</th>\n",
       "      <th>strong</th>\n",
       "      <th>times</th>\n",
       "      <th>tough</th>\n",
       "      <th>weak</th>\n",
       "    </tr>\n",
       "  </thead>\n",
       "  <tbody>\n",
       "    <tr>\n",
       "      <th>0</th>\n",
       "      <td>d1</td>\n",
       "      <td>tough times create strong men</td>\n",
       "      <td>0.363572</td>\n",
       "      <td>0.000000</td>\n",
       "      <td>0.363572</td>\n",
       "      <td>0.549294</td>\n",
       "      <td>0.363572</td>\n",
       "      <td>0.549294</td>\n",
       "      <td>0.000000</td>\n",
       "    </tr>\n",
       "    <tr>\n",
       "      <th>1</th>\n",
       "      <td>d2</td>\n",
       "      <td>strong men create easy times</td>\n",
       "      <td>0.363572</td>\n",
       "      <td>0.549294</td>\n",
       "      <td>0.363572</td>\n",
       "      <td>0.549294</td>\n",
       "      <td>0.363572</td>\n",
       "      <td>0.000000</td>\n",
       "      <td>0.000000</td>\n",
       "    </tr>\n",
       "    <tr>\n",
       "      <th>2</th>\n",
       "      <td>d3</td>\n",
       "      <td>easy times create weak men</td>\n",
       "      <td>0.363572</td>\n",
       "      <td>0.549294</td>\n",
       "      <td>0.363572</td>\n",
       "      <td>0.000000</td>\n",
       "      <td>0.363572</td>\n",
       "      <td>0.000000</td>\n",
       "      <td>0.549294</td>\n",
       "    </tr>\n",
       "    <tr>\n",
       "      <th>3</th>\n",
       "      <td>d4</td>\n",
       "      <td>weak men create tough times</td>\n",
       "      <td>0.363572</td>\n",
       "      <td>0.000000</td>\n",
       "      <td>0.363572</td>\n",
       "      <td>0.000000</td>\n",
       "      <td>0.363572</td>\n",
       "      <td>0.549294</td>\n",
       "      <td>0.549294</td>\n",
       "    </tr>\n",
       "  </tbody>\n",
       "</table>\n",
       "</div>"
      ],
      "text/plain": [
       "  document                           text    create      easy       men  \\\n",
       "0       d1  tough times create strong men  0.363572  0.000000  0.363572   \n",
       "1       d2   strong men create easy times  0.363572  0.549294  0.363572   \n",
       "2       d3     easy times create weak men  0.363572  0.549294  0.363572   \n",
       "3       d4    weak men create tough times  0.363572  0.000000  0.363572   \n",
       "\n",
       "     strong     times     tough      weak  \n",
       "0  0.549294  0.363572  0.549294  0.000000  \n",
       "1  0.549294  0.363572  0.000000  0.000000  \n",
       "2  0.000000  0.363572  0.000000  0.549294  \n",
       "3  0.000000  0.363572  0.549294  0.549294  "
      ]
     },
     "execution_count": 113,
     "metadata": {},
     "output_type": "execute_result"
    }
   ],
   "source": [
    "tfidf_df=TFIDF(df)\n",
    "tfidf_df"
   ]
  },
  {
   "cell_type": "markdown",
   "id": "a8efa8e7",
   "metadata": {},
   "source": [
    "**Pros**<br>\n",
    "1. Simple\n",
    "2. Intuitive \n",
    "3. Importance of words are handled in a good way\n",
    "**Cons**<br>\n",
    "1. Sparsity\n",
    "2. Dimension incrases as the size of vocabulary increases.\n",
    "3. OOV words are ignored. So, it might cause an issue as the importance of that word is not caputured."
   ]
  },
  {
   "cell_type": "markdown",
   "id": "d6abf760",
   "metadata": {},
   "source": [
    "<h1 align='center'> Word Embeddings </h1>"
   ]
  },
  {
   "cell_type": "markdown",
   "id": "80688165",
   "metadata": {},
   "source": [
    "In NLP word embedding is a term used for the representation of words for text analysis, typically in the form of a real-valued vector that encodes the meaning of each word in such a way that the words are closer in the vector space are expected to be similar in meaning"
   ]
  },
  {
   "cell_type": "markdown",
   "id": "58501333",
   "metadata": {},
   "source": [
    "Need of vector embeddings:\n",
    "\n",
    "1.  The methods like OHE, BoW or n-grams produce matrix of very large dimension if the number of unique words in the text corpus is very high. But the embedding models like Word2Vec, OpenAIEmbedding, all-mpnet-base-v2 have a fixed embedding size. So we will not end up creating matrix of infinite dimensions so computation time is much faster.\n",
    "\n",
    "2. The vector representation that is been produced is a dense vector. So the problem of sparsity goes away which makes the NLP model very less prone to overfitting.\n",
    "\n",
    "3. The semantic similarity is captured in a much better way. It can identify happy and joy as similar word unlike other methods. "
   ]
  },
  {
   "cell_type": "markdown",
   "id": "03167e54",
   "metadata": {},
   "source": [
    "### Technique 1 : Using pre-trained embedding model"
   ]
  },
  {
   "cell_type": "markdown",
   "id": "c8ad9adf",
   "metadata": {},
   "source": [
    "**Word2Vec**:<br>\n",
    "\n",
    " Word2Vec is a deep learning model to vectorize words in the text corpus. It was created by Google Engineers in the year 2013. It's the pioneer of embeddings. The embeddings were generated training the neural network over the Google News data of 3 Billion words.<br>\n",
    "\n",
    "- Paper : https://arxiv.org/pdf/1310.4546.pdf\n",
    "- Paper : https://arxiv.org/pdf/1309.4168v1.pdf\n",
    "- Code : https://drive.google.com/file/d/1V4fnxaKMJ5-vz1LddRa-QvRFCKxJk6F6/view?usp=drive_link\n",
    "- TF Blog : https://www.tensorflow.org/text/tutorials/word2vec"
   ]
  },
  {
   "cell_type": "markdown",
   "id": "da2348c6",
   "metadata": {},
   "source": [
    "***Intuition:***<br>\n",
    "\n",
    "The Word2vec deep learning model creates features and against that feature, values are assigned to that word. For the deep learning model we won't get to know what are the feature names but will only get the values. <br>\n",
    "\n",
    "![Alt text](image.png) <br>\n",
    "\n",
    "Take, the features that the DL model has generated are greeting,Gender,...and Number and based on these features, values are assigned against each word. From this image we can say that the vector representation of the word Tuna will be [0.01,0.09,0.01,0.99,0.92,0.39,0.00]"
   ]
  },
  {
   "cell_type": "markdown",
   "id": "098da5f4",
   "metadata": {},
   "source": [
    "There are two different architectures of Word2vec that are Continous Bag of Word (CBOW) and other one is skip-gram. Here we create a fake/dummy problem, we try to solve that fake problem and as a bi-product of which we get the vector embeddings or feature values against each word. It has been proven experimentally that the CBOW shows better results in case of small data whereas skip-gram shows good results in case of large data. "
   ]
  },
  {
   "cell_type": "markdown",
   "id": "74316148",
   "metadata": {},
   "source": [
    "#### Architecture 1 -  CBOW:"
   ]
  },
  {
   "cell_type": "markdown",
   "id": "5ecb372e",
   "metadata": {},
   "source": [
    "The dummy problem that has been used in CBOW is that, there is a large text corpus. Where we are taking a window of three words. we will be predicting the middle word taking the first and third words as context. So, the first and third word will be the training data(features) and the middle word is the target. Example:<br>\n",
    "Text = 'Tough times create strong men'<br>\n",
    "\n",
    "    features(X1) = [(tough,create)] , target = times<br>\n",
    "    features(X2) = [(times,strong)] , target = create<br>\n",
    "    features(X3) = [(create,men)] ,    target = strong<br>\n",
    "\n",
    "Now, we wil perform one hot encoding to represent this into a vector format.<br>\n",
    "\n",
    "![Alt text](image-1.png)"
   ]
  },
  {
   "cell_type": "markdown",
   "id": "28828f8f",
   "metadata": {},
   "source": [
    "The above diagram represents a Neural Network that is build to solve the fake problem. Here the hidden layer contains 3 neurons because we have considered the window size to be 3 as well. Here the words like tough, times ,...men will be represented by a collection of weights coming out of the hidden layer. That's how we will get the vector representation of each word."
   ]
  },
  {
   "cell_type": "markdown",
   "id": "748740c9",
   "metadata": {},
   "source": [
    "#### Architecture 2 - skip-gram:"
   ]
  },
  {
   "cell_type": "markdown",
   "id": "1c6c8d8d",
   "metadata": {},
   "source": [
    "The dummy problem that has been used in skip-gram is that, there is a large text corpus where we are taking a window of three words. we will be predicting the context word taking middle word as input. So, the first and third word will be the target data and the middle word is the feature. Basically it's the opposite of CBOW. Example:<br>\n",
    "\n",
    "![Alt text](image-2.png)"
   ]
  },
  {
   "cell_type": "markdown",
   "id": "01dc60f6",
   "metadata": {},
   "source": [
    "### Technique 2: Training on own data to get embeddings"
   ]
  },
  {
   "cell_type": "markdown",
   "id": "2e5c90b2",
   "metadata": {},
   "source": [
    "Here we will use the Game of Thrones text to train our data and will generate our own embeddings."
   ]
  },
  {
   "cell_type": "code",
   "execution_count": 27,
   "id": "232b09cf",
   "metadata": {},
   "outputs": [
    {
     "name": "stderr",
     "output_type": "stream",
     "text": [
      "[nltk_data] Downloading package punkt to\n",
      "[nltk_data]     C:\\Users\\krish\\AppData\\Roaming\\nltk_data...\n",
      "[nltk_data]   Package punkt is already up-to-date!\n"
     ]
    }
   ],
   "source": [
    "import os\n",
    "import nltk\n",
    "import gensim\n",
    "import numpy as np \n",
    "import pandas as pd\n",
    "nltk.download('punkt')\n",
    "from nltk import sent_tokenize\n",
    "import plotly.express as px\n",
    "from sklearn.decomposition import PCA\n",
    "from gensim.utils import simple_preprocess\n"
   ]
  },
  {
   "cell_type": "code",
   "execution_count": 8,
   "id": "32f854a2",
   "metadata": {},
   "outputs": [],
   "source": [
    "story=[]\n",
    "filename='GOT-Book_1.txt'\n",
    "f = open(filename)\n",
    "corpus= f.read()\n",
    "raw_sentence = sent_tokenize(corpus)\n",
    "for sentence in raw_sentence:\n",
    "    story.append(simple_preprocess(sentence))"
   ]
  },
  {
   "cell_type": "code",
   "execution_count": 9,
   "id": "de95a8dc",
   "metadata": {},
   "outputs": [
    {
     "data": {
      "text/plain": [
       "27244"
      ]
     },
     "execution_count": 9,
     "metadata": {},
     "output_type": "execute_result"
    }
   ],
   "source": [
    "len(story)"
   ]
  },
  {
   "cell_type": "code",
   "execution_count": 11,
   "id": "39b442dc",
   "metadata": {},
   "outputs": [],
   "source": [
    "model = gensim.models.Word2Vec(\n",
    "                            window=10,\n",
    "                            vector_size=100,  # we will get the embedding size =100\n",
    "                            min_count=2,\n",
    "                            workers=4)\n",
    "\n",
    "model.build_vocab(story)"
   ]
  },
  {
   "cell_type": "code",
   "execution_count": 14,
   "id": "d64f214d",
   "metadata": {},
   "outputs": [
    {
     "data": {
      "text/plain": [
       "(1058787, 1423500)"
      ]
     },
     "execution_count": 14,
     "metadata": {},
     "output_type": "execute_result"
    }
   ],
   "source": [
    "model.train(story, total_examples=model.corpus_count, \n",
    "            epochs=model.epochs)\n"
   ]
  },
  {
   "cell_type": "code",
   "execution_count": 19,
   "id": "040a36c0",
   "metadata": {},
   "outputs": [
    {
     "data": {
      "text/plain": [
       "[('warden', 0.9065202474594116),\n",
       " ('stage', 0.8709477186203003),\n",
       " ('dragonstone', 0.8660157918930054),\n",
       " ('name', 0.8567836284637451),\n",
       " ('eldest', 0.8557701706886292),\n",
       " ('wife', 0.8550875782966614),\n",
       " ('heir', 0.8504862785339355),\n",
       " ('council', 0.8501777648925781),\n",
       " ('protector', 0.8492279648780823),\n",
       " ('stannis', 0.848252534866333)]"
      ]
     },
     "execution_count": 19,
     "metadata": {},
     "output_type": "execute_result"
    }
   ],
   "source": [
    "model.wv.most_similar('baratheon')"
   ]
  },
  {
   "cell_type": "code",
   "execution_count": 20,
   "id": "4208365f",
   "metadata": {},
   "outputs": [
    {
     "data": {
      "text/plain": [
       "[('movement', 0.8486617207527161),\n",
       " ('hodor', 0.8439391255378723),\n",
       " ('warmth', 0.8419230580329895),\n",
       " ('darkness', 0.8397408127784729),\n",
       " ('silence', 0.8363795876502991),\n",
       " ('ghost', 0.8274149298667908),\n",
       " ('crow', 0.8244905471801758),\n",
       " ('stiv', 0.8227370977401733),\n",
       " ('freeze', 0.8195980191230774),\n",
       " ('lurch', 0.8130811452865601)]"
      ]
     },
     "execution_count": 20,
     "metadata": {},
     "output_type": "execute_result"
    }
   ],
   "source": [
    "model.wv.most_similar('wolf')"
   ]
  },
  {
   "cell_type": "code",
   "execution_count": 22,
   "id": "d828d966",
   "metadata": {},
   "outputs": [
    {
     "data": {
      "text/plain": [
       "[('foster', 0.7443743944168091),\n",
       " ('kingslayer', 0.7383334636688232),\n",
       " ('household', 0.7175178527832031),\n",
       " ('conspired', 0.7165029048919678),\n",
       " ('personal', 0.7143693566322327),\n",
       " ('steward', 0.7116624712944031),\n",
       " ('jaime', 0.706831693649292),\n",
       " ('sons', 0.6976523995399475),\n",
       " ('host', 0.695743978023529),\n",
       " ('nephew', 0.6951910257339478)]"
      ]
     },
     "execution_count": 22,
     "metadata": {},
     "output_type": "execute_result"
    }
   ],
   "source": [
    "model.wv.most_similar('lannister')"
   ]
  },
  {
   "cell_type": "code",
   "execution_count": 42,
   "id": "1d840eba",
   "metadata": {},
   "outputs": [
    {
     "ename": "KeyError",
     "evalue": "\"Key 'Europe' not present in vocabulary\"",
     "output_type": "error",
     "traceback": [
      "\u001b[1;31m---------------------------------------------------------------------------\u001b[0m",
      "\u001b[1;31mKeyError\u001b[0m                                  Traceback (most recent call last)",
      "\u001b[1;32mc:\\Users\\krish\\OneDrive\\Desktop\\Study\\Text\\Basics\\Text Vectorization-1.ipynb Cell 67\u001b[0m line \u001b[0;36m2\n\u001b[0;32m      <a href='vscode-notebook-cell:/c%3A/Users/krish/OneDrive/Desktop/Study/Text/Basics/Text%20Vectorization-1.ipynb#Y126sZmlsZQ%3D%3D?line=0'>1</a>\u001b[0m \u001b[39m### If the word is not in the text corpus, it will throw error\u001b[39;00m\n\u001b[1;32m----> <a href='vscode-notebook-cell:/c%3A/Users/krish/OneDrive/Desktop/Study/Text/Basics/Text%20Vectorization-1.ipynb#Y126sZmlsZQ%3D%3D?line=1'>2</a>\u001b[0m model\u001b[39m.\u001b[39;49mwv\u001b[39m.\u001b[39;49mmost_similar(\u001b[39m'\u001b[39;49m\u001b[39mEurope\u001b[39;49m\u001b[39m'\u001b[39;49m)\n",
      "File \u001b[1;32mc:\\Users\\krish\\anaconda3\\envs\\kd_env\\lib\\site-packages\\gensim\\models\\keyedvectors.py:841\u001b[0m, in \u001b[0;36mKeyedVectors.most_similar\u001b[1;34m(self, positive, negative, topn, clip_start, clip_end, restrict_vocab, indexer)\u001b[0m\n\u001b[0;32m    838\u001b[0m         weight[idx] \u001b[39m=\u001b[39m item[\u001b[39m1\u001b[39m]\n\u001b[0;32m    840\u001b[0m \u001b[39m# compute the weighted average of all keys\u001b[39;00m\n\u001b[1;32m--> 841\u001b[0m mean \u001b[39m=\u001b[39m \u001b[39mself\u001b[39;49m\u001b[39m.\u001b[39;49mget_mean_vector(keys, weight, pre_normalize\u001b[39m=\u001b[39;49m\u001b[39mTrue\u001b[39;49;00m, post_normalize\u001b[39m=\u001b[39;49m\u001b[39mTrue\u001b[39;49;00m, ignore_missing\u001b[39m=\u001b[39;49m\u001b[39mFalse\u001b[39;49;00m)\n\u001b[0;32m    842\u001b[0m all_keys \u001b[39m=\u001b[39m [\n\u001b[0;32m    843\u001b[0m     \u001b[39mself\u001b[39m\u001b[39m.\u001b[39mget_index(key) \u001b[39mfor\u001b[39;00m key \u001b[39min\u001b[39;00m keys \u001b[39mif\u001b[39;00m \u001b[39misinstance\u001b[39m(key, _KEY_TYPES) \u001b[39mand\u001b[39;00m \u001b[39mself\u001b[39m\u001b[39m.\u001b[39mhas_index_for(key)\n\u001b[0;32m    844\u001b[0m ]\n\u001b[0;32m    846\u001b[0m \u001b[39mif\u001b[39;00m indexer \u001b[39mis\u001b[39;00m \u001b[39mnot\u001b[39;00m \u001b[39mNone\u001b[39;00m \u001b[39mand\u001b[39;00m \u001b[39misinstance\u001b[39m(topn, \u001b[39mint\u001b[39m):\n",
      "File \u001b[1;32mc:\\Users\\krish\\anaconda3\\envs\\kd_env\\lib\\site-packages\\gensim\\models\\keyedvectors.py:518\u001b[0m, in \u001b[0;36mKeyedVectors.get_mean_vector\u001b[1;34m(self, keys, weights, pre_normalize, post_normalize, ignore_missing)\u001b[0m\n\u001b[0;32m    516\u001b[0m         total_weight \u001b[39m+\u001b[39m\u001b[39m=\u001b[39m \u001b[39mabs\u001b[39m(weights[idx])\n\u001b[0;32m    517\u001b[0m     \u001b[39melif\u001b[39;00m \u001b[39mnot\u001b[39;00m ignore_missing:\n\u001b[1;32m--> 518\u001b[0m         \u001b[39mraise\u001b[39;00m \u001b[39mKeyError\u001b[39;00m(\u001b[39mf\u001b[39m\u001b[39m\"\u001b[39m\u001b[39mKey \u001b[39m\u001b[39m'\u001b[39m\u001b[39m{\u001b[39;00mkey\u001b[39m}\u001b[39;00m\u001b[39m'\u001b[39m\u001b[39m not present in vocabulary\u001b[39m\u001b[39m\"\u001b[39m)\n\u001b[0;32m    520\u001b[0m \u001b[39mif\u001b[39;00m total_weight \u001b[39m>\u001b[39m \u001b[39m0\u001b[39m:\n\u001b[0;32m    521\u001b[0m     mean \u001b[39m=\u001b[39m mean \u001b[39m/\u001b[39m total_weight\n",
      "\u001b[1;31mKeyError\u001b[0m: \"Key 'Europe' not present in vocabulary\""
     ]
    }
   ],
   "source": [
    "### If the word is not in the text corpus, it will throw error\n",
    "model.wv.most_similar('Europe')"
   ]
  },
  {
   "cell_type": "code",
   "execution_count": 25,
   "id": "94dd0c94",
   "metadata": {},
   "outputs": [
    {
     "data": {
      "text/plain": [
       "0.93387604"
      ]
     },
     "execution_count": 25,
     "metadata": {},
     "output_type": "execute_result"
    }
   ],
   "source": [
    "model.wv.similarity('arya','sansa')"
   ]
  },
  {
   "cell_type": "code",
   "execution_count": 26,
   "id": "49379a22",
   "metadata": {},
   "outputs": [
    {
     "data": {
      "text/plain": [
       "array([ 1.3777735 , -0.38697323, -0.609149  , -1.1972412 ,  1.3713096 ,\n",
       "       -0.46447858, -0.64681154,  1.5312755 ,  0.23259486, -0.06502395,\n",
       "       -0.74165606, -1.2367    ,  0.2597048 ,  0.19739881,  0.96973175,\n",
       "        0.2833963 , -0.5170741 , -0.14250743,  1.6395868 , -1.6783292 ,\n",
       "        0.8906768 , -0.6863455 , -0.11743952, -0.82964665, -1.0515867 ,\n",
       "        1.495001  , -0.6738145 , -0.40878728,  0.21746342,  0.59670055,\n",
       "        0.12087309, -0.6756956 ,  0.05202612, -1.5229514 ,  0.616399  ,\n",
       "       -1.1564926 , -0.14506681,  0.62610126, -0.46736622, -0.2184238 ,\n",
       "       -1.0106217 , -1.3874764 ,  0.7814562 ,  0.8717466 ,  1.486853  ,\n",
       "       -0.06433678, -0.30219686, -0.994785  , -0.637019  ,  0.1812993 ,\n",
       "       -0.7001283 ,  0.5464055 ,  1.1131701 , -0.48495632,  0.93450576,\n",
       "        0.53115976, -0.3626475 , -0.0978311 ,  1.0700375 , -0.0595584 ,\n",
       "       -0.29068387, -0.59739643,  0.8360576 ,  0.9681423 , -0.6011112 ,\n",
       "        1.2211233 , -0.39477125,  0.535186  ,  0.04808044,  1.0550826 ,\n",
       "       -0.07591465,  0.6172815 ,  0.15070313,  0.25007442,  0.66159797,\n",
       "       -0.1999859 , -0.31051055, -0.02705603, -0.39455613, -0.83159584,\n",
       "       -0.9773362 ,  0.22566831, -0.82551074,  0.4086248 ,  0.22090048,\n",
       "        0.26276812, -0.79213876, -0.02799818,  1.2875094 , -0.34199062,\n",
       "        0.8657059 , -0.66773653, -0.6109426 ,  0.32607043, -0.37655905,\n",
       "        0.2429874 , -0.54585046, -0.95339537, -0.21061867,  0.59428936],\n",
       "      dtype=float32)"
      ]
     },
     "execution_count": 26,
     "metadata": {},
     "output_type": "execute_result"
    }
   ],
   "source": [
    "model.wv['sansa']  ## vector representation of sansa"
   ]
  },
  {
   "cell_type": "code",
   "execution_count": 30,
   "id": "a9e4b54e",
   "metadata": {},
   "outputs": [
    {
     "data": {
      "text/plain": [
       "(7432, 3)"
      ]
     },
     "execution_count": 30,
     "metadata": {},
     "output_type": "execute_result"
    }
   ],
   "source": [
    "pca= PCA(n_components=3)\n",
    "X= pca.fit_transform(model.wv.get_normed_vectors())\n",
    "Y = model.wv.index_to_key\n",
    "X.shape"
   ]
  },
  {
   "cell_type": "code",
   "execution_count": 41,
   "id": "97f41386",
   "metadata": {},
   "outputs": [],
   "source": [
    "fig= px.scatter_3d(X[:500], x=0,y=1,z=2, color=Y[:500])\n",
    "fig.show()"
   ]
  }
 ],
 "metadata": {
  "kernelspec": {
   "display_name": "Python 3 (ipykernel)",
   "language": "python",
   "name": "python3"
  },
  "language_info": {
   "codemirror_mode": {
    "name": "ipython",
    "version": 3
   },
   "file_extension": ".py",
   "mimetype": "text/x-python",
   "name": "python",
   "nbconvert_exporter": "python",
   "pygments_lexer": "ipython3",
   "version": "3.10.11"
  }
 },
 "nbformat": 4,
 "nbformat_minor": 5
}
