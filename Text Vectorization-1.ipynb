{
 "cells": [
  {
   "cell_type": "markdown",
   "id": "049bd741",
   "metadata": {},
   "source": [
    "<h1 align='center'>Vectorization </h1>"
   ]
  },
  {
   "cell_type": "markdown",
   "id": "9d6e0022",
   "metadata": {},
   "source": [
    "**Corpus**: Concatenation of the text of all the samples<br>\n",
    "**Vocabulary**: Collection of unique words from the corpus <br>\n",
    "**Document**: The individual text associated to each sample"
   ]
  },
  {
   "cell_type": "markdown",
   "id": "6564e7c5",
   "metadata": {},
   "source": [
    "***Word Vectorization***<br>\n",
    "It's a technique used in NLP where the words are represented in the form of real-valued vectors that encodes the meaning of the word such that the words that are similar in meaning are closer in the vector space."
   ]
  },
  {
   "cell_type": "code",
   "execution_count": 13,
   "id": "34c85df3",
   "metadata": {},
   "outputs": [
    {
     "data": {
      "text/html": [
       "<div>\n",
       "<style scoped>\n",
       "    .dataframe tbody tr th:only-of-type {\n",
       "        vertical-align: middle;\n",
       "    }\n",
       "\n",
       "    .dataframe tbody tr th {\n",
       "        vertical-align: top;\n",
       "    }\n",
       "\n",
       "    .dataframe thead th {\n",
       "        text-align: right;\n",
       "    }\n",
       "</style>\n",
       "<table border=\"1\" class=\"dataframe\">\n",
       "  <thead>\n",
       "    <tr style=\"text-align: right;\">\n",
       "      <th></th>\n",
       "      <th>document</th>\n",
       "      <th>text</th>\n",
       "    </tr>\n",
       "  </thead>\n",
       "  <tbody>\n",
       "    <tr>\n",
       "      <th>0</th>\n",
       "      <td>d1</td>\n",
       "      <td>tough times create strong men</td>\n",
       "    </tr>\n",
       "    <tr>\n",
       "      <th>1</th>\n",
       "      <td>d2</td>\n",
       "      <td>strong men create easy times</td>\n",
       "    </tr>\n",
       "    <tr>\n",
       "      <th>2</th>\n",
       "      <td>d3</td>\n",
       "      <td>easy times create weak men</td>\n",
       "    </tr>\n",
       "    <tr>\n",
       "      <th>3</th>\n",
       "      <td>d4</td>\n",
       "      <td>weak men create tough times</td>\n",
       "    </tr>\n",
       "  </tbody>\n",
       "</table>\n",
       "</div>"
      ],
      "text/plain": [
       "  document                           text\n",
       "0       d1  tough times create strong men\n",
       "1       d2   strong men create easy times\n",
       "2       d3     easy times create weak men\n",
       "3       d4    weak men create tough times"
      ]
     },
     "execution_count": 13,
     "metadata": {},
     "output_type": "execute_result"
    }
   ],
   "source": [
    "import pandas as pd\n",
    "df=pd.read_csv(\"ExampleData.csv\")\n",
    "df"
   ]
  },
  {
   "cell_type": "code",
   "execution_count": 18,
   "id": "49a2bae3",
   "metadata": {},
   "outputs": [
    {
     "name": "stdout",
     "output_type": "stream",
     "text": [
      "Corpus : \n",
      " ['tough', 'times', 'create', 'strong', 'men', 'strong', 'men', 'create', 'easy', 'times', 'easy', 'times', 'create', 'weak', 'men', 'weak', 'men', 'create', 'tough', 'times']\n",
      "Vocabulary : \n",
      " ['tough', 'times', 'strong', 'create', 'easy', 'men', 'weak']\n"
     ]
    }
   ],
   "source": [
    "corpus=[]\n",
    "for i in range(df.shape[0]):\n",
    "    corpus.extend(df.loc[i].text.split(' '))\n",
    "vocabulary=list(set(corpus))\n",
    "print(\"Corpus : \\n\",corpus)\n",
    "print(\"Vocabulary : \\n\",vocabulary)"
   ]
  },
  {
   "cell_type": "markdown",
   "id": "b07766ad",
   "metadata": {},
   "source": [
    "<h1 align ='center'> One-hot encoding </h1>"
   ]
  },
  {
   "cell_type": "markdown",
   "id": "fddee0df",
   "metadata": {},
   "source": [
    "Here the words in the document if present in the vocabulary are represented by 1 else by 0.<br>\n",
    "Here each of the document is transformed into k dimensional representation where k represents total number of unique words in the vocabulary.\n"
   ]
  },
  {
   "cell_type": "code",
   "execution_count": 44,
   "id": "92e578a4",
   "metadata": {},
   "outputs": [],
   "source": [
    "def OHE(df):\n",
    "    ohe_df=df.copy()\n",
    "    for i in range(df.shape[0]):\n",
    "        for j in vocabulary:\n",
    "            if j in df.loc[i].text:\n",
    "                ohe_df.loc[i,j]=1\n",
    "            else:\n",
    "                ohe_df.loc[i,j]=0\n",
    "                \n",
    "    return ohe_df\n",
    "ohe_df=OHE(df)"
   ]
  },
  {
   "cell_type": "code",
   "execution_count": 45,
   "id": "cbf63b0b",
   "metadata": {},
   "outputs": [
    {
     "data": {
      "text/html": [
       "<div>\n",
       "<style scoped>\n",
       "    .dataframe tbody tr th:only-of-type {\n",
       "        vertical-align: middle;\n",
       "    }\n",
       "\n",
       "    .dataframe tbody tr th {\n",
       "        vertical-align: top;\n",
       "    }\n",
       "\n",
       "    .dataframe thead th {\n",
       "        text-align: right;\n",
       "    }\n",
       "</style>\n",
       "<table border=\"1\" class=\"dataframe\">\n",
       "  <thead>\n",
       "    <tr style=\"text-align: right;\">\n",
       "      <th></th>\n",
       "      <th>document</th>\n",
       "      <th>text</th>\n",
       "      <th>tough</th>\n",
       "      <th>times</th>\n",
       "      <th>strong</th>\n",
       "      <th>create</th>\n",
       "      <th>easy</th>\n",
       "      <th>men</th>\n",
       "      <th>weak</th>\n",
       "    </tr>\n",
       "  </thead>\n",
       "  <tbody>\n",
       "    <tr>\n",
       "      <th>0</th>\n",
       "      <td>d1</td>\n",
       "      <td>tough times create strong men</td>\n",
       "      <td>1.0</td>\n",
       "      <td>1.0</td>\n",
       "      <td>1.0</td>\n",
       "      <td>1.0</td>\n",
       "      <td>0.0</td>\n",
       "      <td>1.0</td>\n",
       "      <td>0.0</td>\n",
       "    </tr>\n",
       "    <tr>\n",
       "      <th>1</th>\n",
       "      <td>d2</td>\n",
       "      <td>strong men create easy times</td>\n",
       "      <td>0.0</td>\n",
       "      <td>1.0</td>\n",
       "      <td>1.0</td>\n",
       "      <td>1.0</td>\n",
       "      <td>1.0</td>\n",
       "      <td>1.0</td>\n",
       "      <td>0.0</td>\n",
       "    </tr>\n",
       "    <tr>\n",
       "      <th>2</th>\n",
       "      <td>d3</td>\n",
       "      <td>easy times create weak men</td>\n",
       "      <td>0.0</td>\n",
       "      <td>1.0</td>\n",
       "      <td>0.0</td>\n",
       "      <td>1.0</td>\n",
       "      <td>1.0</td>\n",
       "      <td>1.0</td>\n",
       "      <td>1.0</td>\n",
       "    </tr>\n",
       "    <tr>\n",
       "      <th>3</th>\n",
       "      <td>d4</td>\n",
       "      <td>weak men create tough times</td>\n",
       "      <td>1.0</td>\n",
       "      <td>1.0</td>\n",
       "      <td>0.0</td>\n",
       "      <td>1.0</td>\n",
       "      <td>0.0</td>\n",
       "      <td>1.0</td>\n",
       "      <td>1.0</td>\n",
       "    </tr>\n",
       "  </tbody>\n",
       "</table>\n",
       "</div>"
      ],
      "text/plain": [
       "  document                           text  tough  times  strong  create  easy  \\\n",
       "0       d1  tough times create strong men    1.0    1.0     1.0     1.0   0.0   \n",
       "1       d2   strong men create easy times    0.0    1.0     1.0     1.0   1.0   \n",
       "2       d3     easy times create weak men    0.0    1.0     0.0     1.0   1.0   \n",
       "3       d4    weak men create tough times    1.0    1.0     0.0     1.0   0.0   \n",
       "\n",
       "   men  weak  \n",
       "0  1.0   0.0  \n",
       "1  1.0   0.0  \n",
       "2  1.0   1.0  \n",
       "3  1.0   1.0  "
      ]
     },
     "execution_count": 45,
     "metadata": {},
     "output_type": "execute_result"
    }
   ],
   "source": [
    "ohe_df"
   ]
  },
  {
   "cell_type": "markdown",
   "id": "c9a0d98b",
   "metadata": {},
   "source": [
    "**Pros**<br>\n",
    "1. Simple & Intuitive \n",
    "2. Easy to implement\n",
    "**Cons**<br>\n",
    "1. Sparsity\n",
    "2. No fixed size.\n",
    "3 OOV issue. Can't handle new words.\n",
    "4. No caputure of semantics"
   ]
  },
  {
   "cell_type": "markdown",
   "id": "72a2b043",
   "metadata": {},
   "source": [
    "<h1 align ='center'> Bag of Words </h1>"
   ]
  },
  {
   "cell_type": "markdown",
   "id": "3c814492",
   "metadata": {},
   "source": [
    "Here the frequency of the words are written as the vactor magnitude against a given word.<br>"
   ]
  },
  {
   "cell_type": "code",
   "execution_count": 49,
   "id": "a19ee808",
   "metadata": {},
   "outputs": [
    {
     "data": {
      "text/html": [
       "<div>\n",
       "<style scoped>\n",
       "    .dataframe tbody tr th:only-of-type {\n",
       "        vertical-align: middle;\n",
       "    }\n",
       "\n",
       "    .dataframe tbody tr th {\n",
       "        vertical-align: top;\n",
       "    }\n",
       "\n",
       "    .dataframe thead th {\n",
       "        text-align: right;\n",
       "    }\n",
       "</style>\n",
       "<table border=\"1\" class=\"dataframe\">\n",
       "  <thead>\n",
       "    <tr style=\"text-align: right;\">\n",
       "      <th></th>\n",
       "      <th>document</th>\n",
       "      <th>text</th>\n",
       "    </tr>\n",
       "  </thead>\n",
       "  <tbody>\n",
       "    <tr>\n",
       "      <th>0</th>\n",
       "      <td>d1</td>\n",
       "      <td>tough times create strong men, strong men crea...</td>\n",
       "    </tr>\n",
       "    <tr>\n",
       "      <th>1</th>\n",
       "      <td>d2</td>\n",
       "      <td>easy times create weak men, weak men create to...</td>\n",
       "    </tr>\n",
       "  </tbody>\n",
       "</table>\n",
       "</div>"
      ],
      "text/plain": [
       "  document                                               text\n",
       "0       d1  tough times create strong men, strong men crea...\n",
       "1       d2  easy times create weak men, weak men create to..."
      ]
     },
     "execution_count": 49,
     "metadata": {},
     "output_type": "execute_result"
    }
   ],
   "source": [
    "df_=pd.read_csv('ExampleData_2.csv')\n",
    "df_"
   ]
  },
  {
   "cell_type": "code",
   "execution_count": 67,
   "id": "01131f9f",
   "metadata": {},
   "outputs": [
    {
     "data": {
      "text/plain": [
       "{'tough': 5,\n",
       " 'times': 4,\n",
       " 'create': 0,\n",
       " 'strong': 3,\n",
       " 'men': 2,\n",
       " 'easy': 1,\n",
       " 'weak': 6}"
      ]
     },
     "execution_count": 67,
     "metadata": {},
     "output_type": "execute_result"
    }
   ],
   "source": [
    "from sklearn.feature_extraction.text import CountVectorizer\n",
    "cv=CountVectorizer()\n",
    "bow=cv.fit_transform(df_['text'])\n",
    "cv.vocabulary_"
   ]
  },
  {
   "cell_type": "code",
   "execution_count": 68,
   "id": "de923be8",
   "metadata": {},
   "outputs": [
    {
     "name": "stdout",
     "output_type": "stream",
     "text": [
      "Text :  tough times create strong men, strong men create easy times\n",
      "Encoded text :  [[2 1 2 2 2 1 0]]\n",
      "Text :  easy times create weak men, weak men create tough times\n",
      "Encoded text :  [[2 1 2 0 2 1 2]]\n"
     ]
    }
   ],
   "source": [
    "print(\"Text : \", df_.loc[0].text)\n",
    "print(\"Encoded text : \", bow[0].toarray())\n",
    "\n",
    "print(\"Text : \", df_.loc[1].text)\n",
    "print(\"Encoded text : \", bow[1].toarray())"
   ]
  },
  {
   "cell_type": "code",
   "execution_count": 77,
   "id": "fbcf1fb0",
   "metadata": {},
   "outputs": [],
   "source": [
    "def BOW(df):\n",
    "    cv=CountVectorizer()\n",
    "    bow=cv.fit_transform(df['text']).toarray()\n",
    "    bow_=pd.DataFrame(bow, columns=cv.get_feature_names_out())\n",
    "    bow_df=pd.concat([df, bow_],axis=1)\n",
    "    return bow_df\n",
    "bow_df=BOW(df_)"
   ]
  },
  {
   "cell_type": "code",
   "execution_count": 78,
   "id": "7d3f7d46",
   "metadata": {},
   "outputs": [
    {
     "data": {
      "text/html": [
       "<div>\n",
       "<style scoped>\n",
       "    .dataframe tbody tr th:only-of-type {\n",
       "        vertical-align: middle;\n",
       "    }\n",
       "\n",
       "    .dataframe tbody tr th {\n",
       "        vertical-align: top;\n",
       "    }\n",
       "\n",
       "    .dataframe thead th {\n",
       "        text-align: right;\n",
       "    }\n",
       "</style>\n",
       "<table border=\"1\" class=\"dataframe\">\n",
       "  <thead>\n",
       "    <tr style=\"text-align: right;\">\n",
       "      <th></th>\n",
       "      <th>document</th>\n",
       "      <th>text</th>\n",
       "      <th>create</th>\n",
       "      <th>easy</th>\n",
       "      <th>men</th>\n",
       "      <th>strong</th>\n",
       "      <th>times</th>\n",
       "      <th>tough</th>\n",
       "      <th>weak</th>\n",
       "    </tr>\n",
       "  </thead>\n",
       "  <tbody>\n",
       "    <tr>\n",
       "      <th>0</th>\n",
       "      <td>d1</td>\n",
       "      <td>tough times create strong men, strong men crea...</td>\n",
       "      <td>2</td>\n",
       "      <td>1</td>\n",
       "      <td>2</td>\n",
       "      <td>2</td>\n",
       "      <td>2</td>\n",
       "      <td>1</td>\n",
       "      <td>0</td>\n",
       "    </tr>\n",
       "    <tr>\n",
       "      <th>1</th>\n",
       "      <td>d2</td>\n",
       "      <td>easy times create weak men, weak men create to...</td>\n",
       "      <td>2</td>\n",
       "      <td>1</td>\n",
       "      <td>2</td>\n",
       "      <td>0</td>\n",
       "      <td>2</td>\n",
       "      <td>1</td>\n",
       "      <td>2</td>\n",
       "    </tr>\n",
       "  </tbody>\n",
       "</table>\n",
       "</div>"
      ],
      "text/plain": [
       "  document                                               text  create  easy  \\\n",
       "0       d1  tough times create strong men, strong men crea...       2     1   \n",
       "1       d2  easy times create weak men, weak men create to...       2     1   \n",
       "\n",
       "   men  strong  times  tough  weak  \n",
       "0    2       2      2      1     0  \n",
       "1    2       0      2      1     2  "
      ]
     },
     "execution_count": 78,
     "metadata": {},
     "output_type": "execute_result"
    }
   ],
   "source": [
    "bow_df"
   ]
  },
  {
   "cell_type": "markdown",
   "id": "cae9f07e",
   "metadata": {},
   "source": [
    "**Pros**<br>\n",
    "1. Simple\n",
    "2. Intuitive \n",
    "3. The problem due to OOV is handled inherently\n",
    "**Cons**<br>\n",
    "1. Sparsity\n",
    "2. Semantic meaning is not captured. Still better than OHE.\n",
    "3. OOV words are ignored. So, it might cause an issue as the importance of that word is not caputured"
   ]
  },
  {
   "cell_type": "markdown",
   "id": "909e993b",
   "metadata": {},
   "source": [
    "<h1 align='center'> Bag of Words with n-grams </h1>"
   ]
  },
  {
   "cell_type": "code",
   "execution_count": 90,
   "id": "dcd77f4f",
   "metadata": {},
   "outputs": [],
   "source": [
    "def ngramBOW(df,tup):\n",
    "    cv=CountVectorizer(ngram_range=tup)\n",
    "    bow=cv.fit_transform(df['text']).toarray()\n",
    "    bow_=pd.DataFrame(bow, columns=cv.get_feature_names_out())\n",
    "    bow_df=pd.concat([df, bow_],axis=1)\n",
    "    return bow_df"
   ]
  },
  {
   "cell_type": "markdown",
   "id": "8f362711",
   "metadata": {},
   "source": [
    "### Unigram"
   ]
  },
  {
   "cell_type": "code",
   "execution_count": 94,
   "id": "8c17e540",
   "metadata": {},
   "outputs": [
    {
     "name": "stdout",
     "output_type": "stream",
     "text": [
      "{'tough': 5, 'times': 4, 'create': 0, 'strong': 3, 'men': 2, 'easy': 1, 'weak': 6}\n"
     ]
    }
   ],
   "source": [
    "from sklearn.feature_extraction.text import CountVectorizer\n",
    "cv=CountVectorizer(ngram_range=(1, 1))\n",
    "bow=cv.fit_transform(df['text'])\n",
    "print(cv.vocabulary_)"
   ]
  },
  {
   "cell_type": "code",
   "execution_count": 95,
   "id": "0a2055b8",
   "metadata": {},
   "outputs": [
    {
     "data": {
      "text/html": [
       "<div>\n",
       "<style scoped>\n",
       "    .dataframe tbody tr th:only-of-type {\n",
       "        vertical-align: middle;\n",
       "    }\n",
       "\n",
       "    .dataframe tbody tr th {\n",
       "        vertical-align: top;\n",
       "    }\n",
       "\n",
       "    .dataframe thead th {\n",
       "        text-align: right;\n",
       "    }\n",
       "</style>\n",
       "<table border=\"1\" class=\"dataframe\">\n",
       "  <thead>\n",
       "    <tr style=\"text-align: right;\">\n",
       "      <th></th>\n",
       "      <th>document</th>\n",
       "      <th>text</th>\n",
       "      <th>create</th>\n",
       "      <th>easy</th>\n",
       "      <th>men</th>\n",
       "      <th>strong</th>\n",
       "      <th>times</th>\n",
       "      <th>tough</th>\n",
       "      <th>weak</th>\n",
       "    </tr>\n",
       "  </thead>\n",
       "  <tbody>\n",
       "    <tr>\n",
       "      <th>0</th>\n",
       "      <td>d1</td>\n",
       "      <td>tough times create strong men</td>\n",
       "      <td>1</td>\n",
       "      <td>0</td>\n",
       "      <td>1</td>\n",
       "      <td>1</td>\n",
       "      <td>1</td>\n",
       "      <td>1</td>\n",
       "      <td>0</td>\n",
       "    </tr>\n",
       "    <tr>\n",
       "      <th>1</th>\n",
       "      <td>d2</td>\n",
       "      <td>strong men create easy times</td>\n",
       "      <td>1</td>\n",
       "      <td>1</td>\n",
       "      <td>1</td>\n",
       "      <td>1</td>\n",
       "      <td>1</td>\n",
       "      <td>0</td>\n",
       "      <td>0</td>\n",
       "    </tr>\n",
       "    <tr>\n",
       "      <th>2</th>\n",
       "      <td>d3</td>\n",
       "      <td>easy times create weak men</td>\n",
       "      <td>1</td>\n",
       "      <td>1</td>\n",
       "      <td>1</td>\n",
       "      <td>0</td>\n",
       "      <td>1</td>\n",
       "      <td>0</td>\n",
       "      <td>1</td>\n",
       "    </tr>\n",
       "    <tr>\n",
       "      <th>3</th>\n",
       "      <td>d4</td>\n",
       "      <td>weak men create tough times</td>\n",
       "      <td>1</td>\n",
       "      <td>0</td>\n",
       "      <td>1</td>\n",
       "      <td>0</td>\n",
       "      <td>1</td>\n",
       "      <td>1</td>\n",
       "      <td>1</td>\n",
       "    </tr>\n",
       "  </tbody>\n",
       "</table>\n",
       "</div>"
      ],
      "text/plain": [
       "  document                           text  create  easy  men  strong  times  \\\n",
       "0       d1  tough times create strong men       1     0    1       1      1   \n",
       "1       d2   strong men create easy times       1     1    1       1      1   \n",
       "2       d3     easy times create weak men       1     1    1       0      1   \n",
       "3       d4    weak men create tough times       1     0    1       0      1   \n",
       "\n",
       "   tough  weak  \n",
       "0      1     0  \n",
       "1      0     0  \n",
       "2      0     1  \n",
       "3      1     1  "
      ]
     },
     "execution_count": 95,
     "metadata": {},
     "output_type": "execute_result"
    }
   ],
   "source": [
    "bow_df_unigram=BOW(df,tup=(1,1))\n",
    "bow_df_unigram"
   ]
  },
  {
   "cell_type": "markdown",
   "id": "18431cd6",
   "metadata": {},
   "source": [
    "### Bi-gram"
   ]
  },
  {
   "cell_type": "code",
   "execution_count": 96,
   "id": "3b8e94c3",
   "metadata": {},
   "outputs": [
    {
     "name": "stdout",
     "output_type": "stream",
     "text": [
      "{'tough times': 8, 'times create': 7, 'create strong': 1, 'strong men': 6, 'men create': 5, 'create easy': 0, 'easy times': 4, 'create weak': 3, 'weak men': 9, 'create tough': 2}\n"
     ]
    }
   ],
   "source": [
    "from sklearn.feature_extraction.text import CountVectorizer\n",
    "cv=CountVectorizer(ngram_range=(2, 2))\n",
    "bow=cv.fit_transform(df['text'])\n",
    "print(cv.vocabulary_)"
   ]
  },
  {
   "cell_type": "code",
   "execution_count": 97,
   "id": "1e848bcb",
   "metadata": {},
   "outputs": [
    {
     "data": {
      "text/html": [
       "<div>\n",
       "<style scoped>\n",
       "    .dataframe tbody tr th:only-of-type {\n",
       "        vertical-align: middle;\n",
       "    }\n",
       "\n",
       "    .dataframe tbody tr th {\n",
       "        vertical-align: top;\n",
       "    }\n",
       "\n",
       "    .dataframe thead th {\n",
       "        text-align: right;\n",
       "    }\n",
       "</style>\n",
       "<table border=\"1\" class=\"dataframe\">\n",
       "  <thead>\n",
       "    <tr style=\"text-align: right;\">\n",
       "      <th></th>\n",
       "      <th>document</th>\n",
       "      <th>text</th>\n",
       "      <th>create easy</th>\n",
       "      <th>create strong</th>\n",
       "      <th>create tough</th>\n",
       "      <th>create weak</th>\n",
       "      <th>easy times</th>\n",
       "      <th>men create</th>\n",
       "      <th>strong men</th>\n",
       "      <th>times create</th>\n",
       "      <th>tough times</th>\n",
       "      <th>weak men</th>\n",
       "    </tr>\n",
       "  </thead>\n",
       "  <tbody>\n",
       "    <tr>\n",
       "      <th>0</th>\n",
       "      <td>d1</td>\n",
       "      <td>tough times create strong men</td>\n",
       "      <td>0</td>\n",
       "      <td>1</td>\n",
       "      <td>0</td>\n",
       "      <td>0</td>\n",
       "      <td>0</td>\n",
       "      <td>0</td>\n",
       "      <td>1</td>\n",
       "      <td>1</td>\n",
       "      <td>1</td>\n",
       "      <td>0</td>\n",
       "    </tr>\n",
       "    <tr>\n",
       "      <th>1</th>\n",
       "      <td>d2</td>\n",
       "      <td>strong men create easy times</td>\n",
       "      <td>1</td>\n",
       "      <td>0</td>\n",
       "      <td>0</td>\n",
       "      <td>0</td>\n",
       "      <td>1</td>\n",
       "      <td>1</td>\n",
       "      <td>1</td>\n",
       "      <td>0</td>\n",
       "      <td>0</td>\n",
       "      <td>0</td>\n",
       "    </tr>\n",
       "    <tr>\n",
       "      <th>2</th>\n",
       "      <td>d3</td>\n",
       "      <td>easy times create weak men</td>\n",
       "      <td>0</td>\n",
       "      <td>0</td>\n",
       "      <td>0</td>\n",
       "      <td>1</td>\n",
       "      <td>1</td>\n",
       "      <td>0</td>\n",
       "      <td>0</td>\n",
       "      <td>1</td>\n",
       "      <td>0</td>\n",
       "      <td>1</td>\n",
       "    </tr>\n",
       "    <tr>\n",
       "      <th>3</th>\n",
       "      <td>d4</td>\n",
       "      <td>weak men create tough times</td>\n",
       "      <td>0</td>\n",
       "      <td>0</td>\n",
       "      <td>1</td>\n",
       "      <td>0</td>\n",
       "      <td>0</td>\n",
       "      <td>1</td>\n",
       "      <td>0</td>\n",
       "      <td>0</td>\n",
       "      <td>1</td>\n",
       "      <td>1</td>\n",
       "    </tr>\n",
       "  </tbody>\n",
       "</table>\n",
       "</div>"
      ],
      "text/plain": [
       "  document                           text  create easy  create strong  \\\n",
       "0       d1  tough times create strong men            0              1   \n",
       "1       d2   strong men create easy times            1              0   \n",
       "2       d3     easy times create weak men            0              0   \n",
       "3       d4    weak men create tough times            0              0   \n",
       "\n",
       "   create tough  create weak  easy times  men create  strong men  \\\n",
       "0             0            0           0           0           1   \n",
       "1             0            0           1           1           1   \n",
       "2             0            1           1           0           0   \n",
       "3             1            0           0           1           0   \n",
       "\n",
       "   times create  tough times  weak men  \n",
       "0             1            1         0  \n",
       "1             0            0         0  \n",
       "2             1            0         1  \n",
       "3             0            1         1  "
      ]
     },
     "execution_count": 97,
     "metadata": {},
     "output_type": "execute_result"
    }
   ],
   "source": [
    "bow_df_bigram=BOW(df,tup=(2,2))\n",
    "bow_df_bigram"
   ]
  },
  {
   "cell_type": "markdown",
   "id": "8e7015a9",
   "metadata": {},
   "source": [
    "### Tri-gram"
   ]
  },
  {
   "cell_type": "code",
   "execution_count": 83,
   "id": "000c0247",
   "metadata": {},
   "outputs": [
    {
     "name": "stdout",
     "output_type": "stream",
     "text": [
      "{'tough times create': 10, 'times create strong': 8, 'create strong men': 1, 'strong men create': 7, 'men create easy': 5, 'create easy times': 0, 'easy times create': 4, 'times create weak': 9, 'create weak men': 3, 'weak men create': 11, 'men create tough': 6, 'create tough times': 2}\n"
     ]
    }
   ],
   "source": [
    "from sklearn.feature_extraction.text import CountVectorizer\n",
    "cv=CountVectorizer(ngram_range=(3, 3))\n",
    "bow=cv.fit_transform(df['text'])\n",
    "print(cv.vocabulary_)"
   ]
  },
  {
   "cell_type": "code",
   "execution_count": 98,
   "id": "f3bc0273",
   "metadata": {},
   "outputs": [
    {
     "data": {
      "text/html": [
       "<div>\n",
       "<style scoped>\n",
       "    .dataframe tbody tr th:only-of-type {\n",
       "        vertical-align: middle;\n",
       "    }\n",
       "\n",
       "    .dataframe tbody tr th {\n",
       "        vertical-align: top;\n",
       "    }\n",
       "\n",
       "    .dataframe thead th {\n",
       "        text-align: right;\n",
       "    }\n",
       "</style>\n",
       "<table border=\"1\" class=\"dataframe\">\n",
       "  <thead>\n",
       "    <tr style=\"text-align: right;\">\n",
       "      <th></th>\n",
       "      <th>document</th>\n",
       "      <th>text</th>\n",
       "      <th>create easy times</th>\n",
       "      <th>create strong men</th>\n",
       "      <th>create tough times</th>\n",
       "      <th>create weak men</th>\n",
       "      <th>easy times create</th>\n",
       "      <th>men create easy</th>\n",
       "      <th>men create tough</th>\n",
       "      <th>strong men create</th>\n",
       "      <th>times create strong</th>\n",
       "      <th>times create weak</th>\n",
       "      <th>tough times create</th>\n",
       "      <th>weak men create</th>\n",
       "    </tr>\n",
       "  </thead>\n",
       "  <tbody>\n",
       "    <tr>\n",
       "      <th>0</th>\n",
       "      <td>d1</td>\n",
       "      <td>tough times create strong men</td>\n",
       "      <td>0</td>\n",
       "      <td>1</td>\n",
       "      <td>0</td>\n",
       "      <td>0</td>\n",
       "      <td>0</td>\n",
       "      <td>0</td>\n",
       "      <td>0</td>\n",
       "      <td>0</td>\n",
       "      <td>1</td>\n",
       "      <td>0</td>\n",
       "      <td>1</td>\n",
       "      <td>0</td>\n",
       "    </tr>\n",
       "    <tr>\n",
       "      <th>1</th>\n",
       "      <td>d2</td>\n",
       "      <td>strong men create easy times</td>\n",
       "      <td>1</td>\n",
       "      <td>0</td>\n",
       "      <td>0</td>\n",
       "      <td>0</td>\n",
       "      <td>0</td>\n",
       "      <td>1</td>\n",
       "      <td>0</td>\n",
       "      <td>1</td>\n",
       "      <td>0</td>\n",
       "      <td>0</td>\n",
       "      <td>0</td>\n",
       "      <td>0</td>\n",
       "    </tr>\n",
       "    <tr>\n",
       "      <th>2</th>\n",
       "      <td>d3</td>\n",
       "      <td>easy times create weak men</td>\n",
       "      <td>0</td>\n",
       "      <td>0</td>\n",
       "      <td>0</td>\n",
       "      <td>1</td>\n",
       "      <td>1</td>\n",
       "      <td>0</td>\n",
       "      <td>0</td>\n",
       "      <td>0</td>\n",
       "      <td>0</td>\n",
       "      <td>1</td>\n",
       "      <td>0</td>\n",
       "      <td>0</td>\n",
       "    </tr>\n",
       "    <tr>\n",
       "      <th>3</th>\n",
       "      <td>d4</td>\n",
       "      <td>weak men create tough times</td>\n",
       "      <td>0</td>\n",
       "      <td>0</td>\n",
       "      <td>1</td>\n",
       "      <td>0</td>\n",
       "      <td>0</td>\n",
       "      <td>0</td>\n",
       "      <td>1</td>\n",
       "      <td>0</td>\n",
       "      <td>0</td>\n",
       "      <td>0</td>\n",
       "      <td>0</td>\n",
       "      <td>1</td>\n",
       "    </tr>\n",
       "  </tbody>\n",
       "</table>\n",
       "</div>"
      ],
      "text/plain": [
       "  document                           text  create easy times  \\\n",
       "0       d1  tough times create strong men                  0   \n",
       "1       d2   strong men create easy times                  1   \n",
       "2       d3     easy times create weak men                  0   \n",
       "3       d4    weak men create tough times                  0   \n",
       "\n",
       "   create strong men  create tough times  create weak men  easy times create  \\\n",
       "0                  1                   0                0                  0   \n",
       "1                  0                   0                0                  0   \n",
       "2                  0                   0                1                  1   \n",
       "3                  0                   1                0                  0   \n",
       "\n",
       "   men create easy  men create tough  strong men create  times create strong  \\\n",
       "0                0                 0                  0                    1   \n",
       "1                1                 0                  1                    0   \n",
       "2                0                 0                  0                    0   \n",
       "3                0                 1                  0                    0   \n",
       "\n",
       "   times create weak  tough times create  weak men create  \n",
       "0                  0                   1                0  \n",
       "1                  0                   0                0  \n",
       "2                  1                   0                0  \n",
       "3                  0                   0                1  "
      ]
     },
     "execution_count": 98,
     "metadata": {},
     "output_type": "execute_result"
    }
   ],
   "source": [
    "bow_df_trigram=BOW(df,tup=(3,3))\n",
    "bow_df_trigram"
   ]
  },
  {
   "cell_type": "markdown",
   "id": "513eb220",
   "metadata": {},
   "source": [
    "### Unigram+Bigram"
   ]
  },
  {
   "cell_type": "code",
   "execution_count": 84,
   "id": "5a63b8f6",
   "metadata": {},
   "outputs": [
    {
     "name": "stdout",
     "output_type": "stream",
     "text": [
      "{'tough': 13, 'times': 11, 'create': 0, 'strong': 9, 'men': 7, 'tough times': 14, 'times create': 12, 'create strong': 2, 'strong men': 10, 'easy': 5, 'men create': 8, 'create easy': 1, 'easy times': 6, 'weak': 15, 'create weak': 4, 'weak men': 16, 'create tough': 3}\n"
     ]
    }
   ],
   "source": [
    "from sklearn.feature_extraction.text import CountVectorizer\n",
    "cv=CountVectorizer(ngram_range=(1, 2))\n",
    "bow=cv.fit_transform(df['text'])\n",
    "print(cv.vocabulary_)"
   ]
  },
  {
   "cell_type": "code",
   "execution_count": 99,
   "id": "5d065115",
   "metadata": {},
   "outputs": [
    {
     "data": {
      "text/html": [
       "<div>\n",
       "<style scoped>\n",
       "    .dataframe tbody tr th:only-of-type {\n",
       "        vertical-align: middle;\n",
       "    }\n",
       "\n",
       "    .dataframe tbody tr th {\n",
       "        vertical-align: top;\n",
       "    }\n",
       "\n",
       "    .dataframe thead th {\n",
       "        text-align: right;\n",
       "    }\n",
       "</style>\n",
       "<table border=\"1\" class=\"dataframe\">\n",
       "  <thead>\n",
       "    <tr style=\"text-align: right;\">\n",
       "      <th></th>\n",
       "      <th>document</th>\n",
       "      <th>text</th>\n",
       "      <th>create</th>\n",
       "      <th>create easy</th>\n",
       "      <th>create strong</th>\n",
       "      <th>create tough</th>\n",
       "      <th>create weak</th>\n",
       "      <th>easy</th>\n",
       "      <th>easy times</th>\n",
       "      <th>men</th>\n",
       "      <th>men create</th>\n",
       "      <th>strong</th>\n",
       "      <th>strong men</th>\n",
       "      <th>times</th>\n",
       "      <th>times create</th>\n",
       "      <th>tough</th>\n",
       "      <th>tough times</th>\n",
       "      <th>weak</th>\n",
       "      <th>weak men</th>\n",
       "    </tr>\n",
       "  </thead>\n",
       "  <tbody>\n",
       "    <tr>\n",
       "      <th>0</th>\n",
       "      <td>d1</td>\n",
       "      <td>tough times create strong men</td>\n",
       "      <td>1</td>\n",
       "      <td>0</td>\n",
       "      <td>1</td>\n",
       "      <td>0</td>\n",
       "      <td>0</td>\n",
       "      <td>0</td>\n",
       "      <td>0</td>\n",
       "      <td>1</td>\n",
       "      <td>0</td>\n",
       "      <td>1</td>\n",
       "      <td>1</td>\n",
       "      <td>1</td>\n",
       "      <td>1</td>\n",
       "      <td>1</td>\n",
       "      <td>1</td>\n",
       "      <td>0</td>\n",
       "      <td>0</td>\n",
       "    </tr>\n",
       "    <tr>\n",
       "      <th>1</th>\n",
       "      <td>d2</td>\n",
       "      <td>strong men create easy times</td>\n",
       "      <td>1</td>\n",
       "      <td>1</td>\n",
       "      <td>0</td>\n",
       "      <td>0</td>\n",
       "      <td>0</td>\n",
       "      <td>1</td>\n",
       "      <td>1</td>\n",
       "      <td>1</td>\n",
       "      <td>1</td>\n",
       "      <td>1</td>\n",
       "      <td>1</td>\n",
       "      <td>1</td>\n",
       "      <td>0</td>\n",
       "      <td>0</td>\n",
       "      <td>0</td>\n",
       "      <td>0</td>\n",
       "      <td>0</td>\n",
       "    </tr>\n",
       "    <tr>\n",
       "      <th>2</th>\n",
       "      <td>d3</td>\n",
       "      <td>easy times create weak men</td>\n",
       "      <td>1</td>\n",
       "      <td>0</td>\n",
       "      <td>0</td>\n",
       "      <td>0</td>\n",
       "      <td>1</td>\n",
       "      <td>1</td>\n",
       "      <td>1</td>\n",
       "      <td>1</td>\n",
       "      <td>0</td>\n",
       "      <td>0</td>\n",
       "      <td>0</td>\n",
       "      <td>1</td>\n",
       "      <td>1</td>\n",
       "      <td>0</td>\n",
       "      <td>0</td>\n",
       "      <td>1</td>\n",
       "      <td>1</td>\n",
       "    </tr>\n",
       "    <tr>\n",
       "      <th>3</th>\n",
       "      <td>d4</td>\n",
       "      <td>weak men create tough times</td>\n",
       "      <td>1</td>\n",
       "      <td>0</td>\n",
       "      <td>0</td>\n",
       "      <td>1</td>\n",
       "      <td>0</td>\n",
       "      <td>0</td>\n",
       "      <td>0</td>\n",
       "      <td>1</td>\n",
       "      <td>1</td>\n",
       "      <td>0</td>\n",
       "      <td>0</td>\n",
       "      <td>1</td>\n",
       "      <td>0</td>\n",
       "      <td>1</td>\n",
       "      <td>1</td>\n",
       "      <td>1</td>\n",
       "      <td>1</td>\n",
       "    </tr>\n",
       "  </tbody>\n",
       "</table>\n",
       "</div>"
      ],
      "text/plain": [
       "  document                           text  create  create easy  create strong  \\\n",
       "0       d1  tough times create strong men       1            0              1   \n",
       "1       d2   strong men create easy times       1            1              0   \n",
       "2       d3     easy times create weak men       1            0              0   \n",
       "3       d4    weak men create tough times       1            0              0   \n",
       "\n",
       "   create tough  create weak  easy  easy times  men  men create  strong  \\\n",
       "0             0            0     0           0    1           0       1   \n",
       "1             0            0     1           1    1           1       1   \n",
       "2             0            1     1           1    1           0       0   \n",
       "3             1            0     0           0    1           1       0   \n",
       "\n",
       "   strong men  times  times create  tough  tough times  weak  weak men  \n",
       "0           1      1             1      1            1     0         0  \n",
       "1           1      1             0      0            0     0         0  \n",
       "2           0      1             1      0            0     1         1  \n",
       "3           0      1             0      1            1     1         1  "
      ]
     },
     "execution_count": 99,
     "metadata": {},
     "output_type": "execute_result"
    }
   ],
   "source": [
    "bow_df_unigram_bigram=BOW(df,tup=(1,2))\n",
    "bow_df_unigram_bigram"
   ]
  },
  {
   "cell_type": "markdown",
   "id": "da1e1bf8",
   "metadata": {},
   "source": [
    "### Unigram+Bigram+Trigram"
   ]
  },
  {
   "cell_type": "code",
   "execution_count": 85,
   "id": "7c559a3e",
   "metadata": {},
   "outputs": [
    {
     "name": "stdout",
     "output_type": "stream",
     "text": [
      "{'tough': 23, 'times': 19, 'create': 0, 'strong': 16, 'men': 12, 'tough times': 24, 'times create': 20, 'create strong': 3, 'strong men': 17, 'tough times create': 25, 'times create strong': 21, 'create strong men': 4, 'easy': 9, 'men create': 13, 'create easy': 1, 'easy times': 10, 'strong men create': 18, 'men create easy': 14, 'create easy times': 2, 'weak': 26, 'create weak': 7, 'weak men': 27, 'easy times create': 11, 'times create weak': 22, 'create weak men': 8, 'create tough': 5, 'weak men create': 28, 'men create tough': 15, 'create tough times': 6}\n"
     ]
    }
   ],
   "source": [
    "from sklearn.feature_extraction.text import CountVectorizer\n",
    "cv=CountVectorizer(ngram_range=(1, 3))\n",
    "bow=cv.fit_transform(df['text'])\n",
    "print(cv.vocabulary_)"
   ]
  },
  {
   "cell_type": "code",
   "execution_count": 100,
   "id": "0e1e5296",
   "metadata": {},
   "outputs": [
    {
     "data": {
      "text/html": [
       "<div>\n",
       "<style scoped>\n",
       "    .dataframe tbody tr th:only-of-type {\n",
       "        vertical-align: middle;\n",
       "    }\n",
       "\n",
       "    .dataframe tbody tr th {\n",
       "        vertical-align: top;\n",
       "    }\n",
       "\n",
       "    .dataframe thead th {\n",
       "        text-align: right;\n",
       "    }\n",
       "</style>\n",
       "<table border=\"1\" class=\"dataframe\">\n",
       "  <thead>\n",
       "    <tr style=\"text-align: right;\">\n",
       "      <th></th>\n",
       "      <th>document</th>\n",
       "      <th>text</th>\n",
       "      <th>create</th>\n",
       "      <th>create easy</th>\n",
       "      <th>create easy times</th>\n",
       "      <th>create strong</th>\n",
       "      <th>create strong men</th>\n",
       "      <th>create tough</th>\n",
       "      <th>create tough times</th>\n",
       "      <th>create weak</th>\n",
       "      <th>...</th>\n",
       "      <th>times</th>\n",
       "      <th>times create</th>\n",
       "      <th>times create strong</th>\n",
       "      <th>times create weak</th>\n",
       "      <th>tough</th>\n",
       "      <th>tough times</th>\n",
       "      <th>tough times create</th>\n",
       "      <th>weak</th>\n",
       "      <th>weak men</th>\n",
       "      <th>weak men create</th>\n",
       "    </tr>\n",
       "  </thead>\n",
       "  <tbody>\n",
       "    <tr>\n",
       "      <th>0</th>\n",
       "      <td>d1</td>\n",
       "      <td>tough times create strong men</td>\n",
       "      <td>1</td>\n",
       "      <td>0</td>\n",
       "      <td>0</td>\n",
       "      <td>1</td>\n",
       "      <td>1</td>\n",
       "      <td>0</td>\n",
       "      <td>0</td>\n",
       "      <td>0</td>\n",
       "      <td>...</td>\n",
       "      <td>1</td>\n",
       "      <td>1</td>\n",
       "      <td>1</td>\n",
       "      <td>0</td>\n",
       "      <td>1</td>\n",
       "      <td>1</td>\n",
       "      <td>1</td>\n",
       "      <td>0</td>\n",
       "      <td>0</td>\n",
       "      <td>0</td>\n",
       "    </tr>\n",
       "    <tr>\n",
       "      <th>1</th>\n",
       "      <td>d2</td>\n",
       "      <td>strong men create easy times</td>\n",
       "      <td>1</td>\n",
       "      <td>1</td>\n",
       "      <td>1</td>\n",
       "      <td>0</td>\n",
       "      <td>0</td>\n",
       "      <td>0</td>\n",
       "      <td>0</td>\n",
       "      <td>0</td>\n",
       "      <td>...</td>\n",
       "      <td>1</td>\n",
       "      <td>0</td>\n",
       "      <td>0</td>\n",
       "      <td>0</td>\n",
       "      <td>0</td>\n",
       "      <td>0</td>\n",
       "      <td>0</td>\n",
       "      <td>0</td>\n",
       "      <td>0</td>\n",
       "      <td>0</td>\n",
       "    </tr>\n",
       "    <tr>\n",
       "      <th>2</th>\n",
       "      <td>d3</td>\n",
       "      <td>easy times create weak men</td>\n",
       "      <td>1</td>\n",
       "      <td>0</td>\n",
       "      <td>0</td>\n",
       "      <td>0</td>\n",
       "      <td>0</td>\n",
       "      <td>0</td>\n",
       "      <td>0</td>\n",
       "      <td>1</td>\n",
       "      <td>...</td>\n",
       "      <td>1</td>\n",
       "      <td>1</td>\n",
       "      <td>0</td>\n",
       "      <td>1</td>\n",
       "      <td>0</td>\n",
       "      <td>0</td>\n",
       "      <td>0</td>\n",
       "      <td>1</td>\n",
       "      <td>1</td>\n",
       "      <td>0</td>\n",
       "    </tr>\n",
       "    <tr>\n",
       "      <th>3</th>\n",
       "      <td>d4</td>\n",
       "      <td>weak men create tough times</td>\n",
       "      <td>1</td>\n",
       "      <td>0</td>\n",
       "      <td>0</td>\n",
       "      <td>0</td>\n",
       "      <td>0</td>\n",
       "      <td>1</td>\n",
       "      <td>1</td>\n",
       "      <td>0</td>\n",
       "      <td>...</td>\n",
       "      <td>1</td>\n",
       "      <td>0</td>\n",
       "      <td>0</td>\n",
       "      <td>0</td>\n",
       "      <td>1</td>\n",
       "      <td>1</td>\n",
       "      <td>0</td>\n",
       "      <td>1</td>\n",
       "      <td>1</td>\n",
       "      <td>1</td>\n",
       "    </tr>\n",
       "  </tbody>\n",
       "</table>\n",
       "<p>4 rows × 31 columns</p>\n",
       "</div>"
      ],
      "text/plain": [
       "  document                           text  create  create easy  \\\n",
       "0       d1  tough times create strong men       1            0   \n",
       "1       d2   strong men create easy times       1            1   \n",
       "2       d3     easy times create weak men       1            0   \n",
       "3       d4    weak men create tough times       1            0   \n",
       "\n",
       "   create easy times  create strong  create strong men  create tough  \\\n",
       "0                  0              1                  1             0   \n",
       "1                  1              0                  0             0   \n",
       "2                  0              0                  0             0   \n",
       "3                  0              0                  0             1   \n",
       "\n",
       "   create tough times  create weak  ...  times  times create  \\\n",
       "0                   0            0  ...      1             1   \n",
       "1                   0            0  ...      1             0   \n",
       "2                   0            1  ...      1             1   \n",
       "3                   1            0  ...      1             0   \n",
       "\n",
       "   times create strong  times create weak  tough  tough times  \\\n",
       "0                    1                  0      1            1   \n",
       "1                    0                  0      0            0   \n",
       "2                    0                  1      0            0   \n",
       "3                    0                  0      1            1   \n",
       "\n",
       "   tough times create  weak  weak men  weak men create  \n",
       "0                   1     0         0                0  \n",
       "1                   0     0         0                0  \n",
       "2                   0     1         1                0  \n",
       "3                   0     1         1                1  \n",
       "\n",
       "[4 rows x 31 columns]"
      ]
     },
     "execution_count": 100,
     "metadata": {},
     "output_type": "execute_result"
    }
   ],
   "source": [
    "bow_df_n_gram=BOW(df,tup=(1,3))\n",
    "bow_df_n_gram"
   ]
  },
  {
   "cell_type": "markdown",
   "id": "e17dbf1f",
   "metadata": {},
   "source": [
    "**Pros**<br>\n",
    "1. Simple\n",
    "2. Intuitive \n",
    "3. Semantic is captured to some small extent.\n",
    "**Cons**<br>\n",
    "1. Sparsity\n",
    "2. Dimension incrases as the value of n increases.\n",
    "3. OOV words are ignored. So, it might cause an issue as the importance of that word is not caputured."
   ]
  },
  {
   "cell_type": "markdown",
   "id": "a9f2607a",
   "metadata": {},
   "source": [
    "<h1 align='center'> TF-IDF </h1>"
   ]
  },
  {
   "cell_type": "markdown",
   "id": "9ba04ca1",
   "metadata": {},
   "source": [
    "Intuition : If any word has high frequency value in a given document but it's very less occuring in rest of the corpus then that word becomes very important to capture the essence of that very document so more weight is given to that word for that document."
   ]
  },
  {
   "cell_type": "markdown",
   "id": "21d5f29a",
   "metadata": {},
   "source": [
    "***Term Frequency (tf):*** <br>TF gives us the frequency of the word in each document in the corpus. It is the ratio of number of times the word appears in a document compared to the total number of words in that document. It increases as the number of occurrences of that word within the document increases.<br>\n",
    "$TF(t)$ = $\\frac{Number of occurances of term t in document d}{Total number of terms in document d}$ <br>"
   ]
  },
  {
   "cell_type": "markdown",
   "id": "41bba07e",
   "metadata": {},
   "source": [
    "***Inverse Data Frequency (idf):*** IDF used to calculate the weight of rare words across all documents in the corpus. The words that occur rarely in the corpus have a high IDF score.<br>\n",
    "$IDF= log\\frac{Total number of documents in the corpus}{Number of documents with term t in them}$"
   ]
  },
  {
   "cell_type": "code",
   "execution_count": 111,
   "id": "acadfbd3",
   "metadata": {},
   "outputs": [
    {
     "data": {
      "text/plain": [
       "{'tough': 5,\n",
       " 'times': 4,\n",
       " 'create': 0,\n",
       " 'strong': 3,\n",
       " 'men': 2,\n",
       " 'easy': 1,\n",
       " 'weak': 6}"
      ]
     },
     "execution_count": 111,
     "metadata": {},
     "output_type": "execute_result"
    }
   ],
   "source": [
    "from sklearn.feature_extraction.text import TfidfVectorizer\n",
    "tfidf=TfidfVectorizer()\n",
    "tfidf_data=tfidf.fit_transform(df['text']).toarray()\n",
    "tfidf.vocabulary_"
   ]
  },
  {
   "cell_type": "code",
   "execution_count": 112,
   "id": "4ebe0ade",
   "metadata": {},
   "outputs": [],
   "source": [
    "def TFIDF(df):\n",
    "    tfidf=TfidfVectorizer()\n",
    "    tfidf_data=tfidf.fit_transform(df['text']).toarray()\n",
    "    tfidf_df=pd.DataFrame(tfidf_data, columns=tfidf.get_feature_names_out())\n",
    "    tfidf_df=pd.concat([df, tfidf_df],axis=1)\n",
    "    return tfidf_df\n",
    "tfidf_df = TFIDF(df)"
   ]
  },
  {
   "cell_type": "code",
   "execution_count": 113,
   "id": "bdc5c9aa",
   "metadata": {},
   "outputs": [
    {
     "data": {
      "text/html": [
       "<div>\n",
       "<style scoped>\n",
       "    .dataframe tbody tr th:only-of-type {\n",
       "        vertical-align: middle;\n",
       "    }\n",
       "\n",
       "    .dataframe tbody tr th {\n",
       "        vertical-align: top;\n",
       "    }\n",
       "\n",
       "    .dataframe thead th {\n",
       "        text-align: right;\n",
       "    }\n",
       "</style>\n",
       "<table border=\"1\" class=\"dataframe\">\n",
       "  <thead>\n",
       "    <tr style=\"text-align: right;\">\n",
       "      <th></th>\n",
       "      <th>document</th>\n",
       "      <th>text</th>\n",
       "      <th>create</th>\n",
       "      <th>easy</th>\n",
       "      <th>men</th>\n",
       "      <th>strong</th>\n",
       "      <th>times</th>\n",
       "      <th>tough</th>\n",
       "      <th>weak</th>\n",
       "    </tr>\n",
       "  </thead>\n",
       "  <tbody>\n",
       "    <tr>\n",
       "      <th>0</th>\n",
       "      <td>d1</td>\n",
       "      <td>tough times create strong men</td>\n",
       "      <td>0.363572</td>\n",
       "      <td>0.000000</td>\n",
       "      <td>0.363572</td>\n",
       "      <td>0.549294</td>\n",
       "      <td>0.363572</td>\n",
       "      <td>0.549294</td>\n",
       "      <td>0.000000</td>\n",
       "    </tr>\n",
       "    <tr>\n",
       "      <th>1</th>\n",
       "      <td>d2</td>\n",
       "      <td>strong men create easy times</td>\n",
       "      <td>0.363572</td>\n",
       "      <td>0.549294</td>\n",
       "      <td>0.363572</td>\n",
       "      <td>0.549294</td>\n",
       "      <td>0.363572</td>\n",
       "      <td>0.000000</td>\n",
       "      <td>0.000000</td>\n",
       "    </tr>\n",
       "    <tr>\n",
       "      <th>2</th>\n",
       "      <td>d3</td>\n",
       "      <td>easy times create weak men</td>\n",
       "      <td>0.363572</td>\n",
       "      <td>0.549294</td>\n",
       "      <td>0.363572</td>\n",
       "      <td>0.000000</td>\n",
       "      <td>0.363572</td>\n",
       "      <td>0.000000</td>\n",
       "      <td>0.549294</td>\n",
       "    </tr>\n",
       "    <tr>\n",
       "      <th>3</th>\n",
       "      <td>d4</td>\n",
       "      <td>weak men create tough times</td>\n",
       "      <td>0.363572</td>\n",
       "      <td>0.000000</td>\n",
       "      <td>0.363572</td>\n",
       "      <td>0.000000</td>\n",
       "      <td>0.363572</td>\n",
       "      <td>0.549294</td>\n",
       "      <td>0.549294</td>\n",
       "    </tr>\n",
       "  </tbody>\n",
       "</table>\n",
       "</div>"
      ],
      "text/plain": [
       "  document                           text    create      easy       men  \\\n",
       "0       d1  tough times create strong men  0.363572  0.000000  0.363572   \n",
       "1       d2   strong men create easy times  0.363572  0.549294  0.363572   \n",
       "2       d3     easy times create weak men  0.363572  0.549294  0.363572   \n",
       "3       d4    weak men create tough times  0.363572  0.000000  0.363572   \n",
       "\n",
       "     strong     times     tough      weak  \n",
       "0  0.549294  0.363572  0.549294  0.000000  \n",
       "1  0.549294  0.363572  0.000000  0.000000  \n",
       "2  0.000000  0.363572  0.000000  0.549294  \n",
       "3  0.000000  0.363572  0.549294  0.549294  "
      ]
     },
     "execution_count": 113,
     "metadata": {},
     "output_type": "execute_result"
    }
   ],
   "source": [
    "tfidf_df=TFIDF(df)\n",
    "tfidf_df"
   ]
  },
  {
   "cell_type": "markdown",
   "id": "2a30695f",
   "metadata": {},
   "source": [
    "**Pros**<br>\n",
    "1. Simple\n",
    "2. Intuitive \n",
    "3. Importance of words are handled in a good way\n",
    "**Cons**<br>\n",
    "1. Sparsity\n",
    "2. Dimension incrases as the size of vocabulary increases.\n",
    "3. OOV words are ignored. So, it might cause an issue as the importance of that word is not caputured."
   ]
  }
 ],
 "metadata": {
  "kernelspec": {
   "display_name": "Python 3 (ipykernel)",
   "language": "python",
   "name": "python3"
  },
  "language_info": {
   "codemirror_mode": {
    "name": "ipython",
    "version": 3
   },
   "file_extension": ".py",
   "mimetype": "text/x-python",
   "name": "python",
   "nbconvert_exporter": "python",
   "pygments_lexer": "ipython3",
   "version": "3.10.9"
  }
 },
 "nbformat": 4,
 "nbformat_minor": 5
}
